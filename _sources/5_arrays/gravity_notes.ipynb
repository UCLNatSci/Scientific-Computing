{
 "cells": [
  {
   "cell_type": "markdown",
   "metadata": {
    "collapsed": false
   },
   "source": [
    "# Motion of an Object under Gravity\n",
    "## One-dimensional Case\n",
    "Newton's law of gravitation determines the force acting on a mass due to the gravitational attraction of a second mass:\n",
    "\n",
    "$$F = \\frac{Gm_1m_2}{r^2}$$\n",
    "\n",
    "Where $G$ is the universal gravitational constant, $m_1$ and $m_2$ are the two masses in kilograms and $r$ is the distance between them in metres.\n",
    "\n",
    "Consider a projectile of mass $m_\\mathrm{p}$ fired vertically from the surface of The Earth. The force acting on the projectile is\n",
    "\n",
    "$$F = -\\frac{Gm_\\mathrm{p}m_\\mathrm{e}}{x^2}$$\n",
    "\n",
    "where $x$ is the distance of the projectile from the centre of The Earth. Combining with Newton's second law of motion $F = m_\\mathrm{p}\\ddot{x}$ gives an equation relating acceleration $\\ddot{x}$ to position $x$:\n",
    "\n",
    "$$\\ddot{x} = -\\frac{Gm_\\mathrm{e}}{x^2}$$\n",
    "\n",
    "Finally, introducing the velocity $v = \\dot{x}$ gives a coupled system of ordinary differential equations:\n",
    "\n",
    "$$\\begin{align*}\n",
    "\\frac{dx}{dt} &= v\\\\\n",
    "\\frac{dv}{dt} &= -\\frac{Gm_\\mathrm{e}}{x^2}\n",
    "\\end{align*}$$\n",
    "\n",
    "(Note that the mass of the projectile does not appear in this equation! Is this what you would expect?)\n",
    "\n",
    "## Two-dimensional Case\n",
    "An object is floating at position $(x_1, x_2)$ relative to the earth which is assumed to remain stationory at position $(0, 0)$.\n",
    "\n",
    "Let $\\mathbf{x}$ be the position vector of the object and $\\mathbf{F}$ the force vector:\n",
    "\n",
    "$$\\mathbf{x} = \\begin{bmatrix}\n",
    "           x_{1} \\\\\n",
    "           x_{2}\n",
    "         \\end{bmatrix}$$\n",
    "         \n",
    "$$\\mathbf{F} = \\begin{bmatrix}\n",
    "           F_{1} \\\\\n",
    "           F_{2}\n",
    "         \\end{bmatrix}$$\n",
    "\n",
    "$$$$\n",
    "\n",
    "Newton's law of gravitation states that the force has magnitude:\n",
    "\n",
    "$$F = \\frac{Gm_\\mathrm{e}m_\\mathrm{p}}{r^2}$$\n",
    "\n",
    "where $r = \\sqrt{x_1^2 + x_2^2}$ is the distance between Earth and the object.\n",
    "\n",
    "The direction of the force vector is a unit vector in the opposite direction to $(x_1, x_2)$ \n",
    "\n",
    "$$-\\frac{\\mathbf{x}}{r} $$\n",
    "\n",
    "The force vector is then:\n",
    "\n",
    "$$\\mathbf{F} = -\\frac{Gm_\\mathrm{e}m_\\mathrm{p}}{r^2}\\frac{\\mathbf{x}}{r} =  -\\frac{Gm_\\mathrm{e}m_\\mathrm{p}}{r^3}\\mathbf{x}$$\n",
    "\n",
    "Introducing the velocity vector $\\mathbf{v} = \\ddot{\\mathbf{x}}$ and using Newton's second law $\\mathbf{F} = m_\\mathrm{p}\\ddot{\\mathbf{x}}$:\n",
    "\n",
    "$$\\begin{align*}\n",
    "\\frac{d\\mathbf{x}}{dt} &= \\mathbf{v}\\\\\n",
    "\\frac{d\\mathbf{v}}{dt} &= -\\frac{Gm_\\mathrm{e}}{r^3}\\mathbf{x}\n",
    "\\end{align*}$$\n",
    "\n",
    "Defining a timestep $\\Delta t$, then the position vector $\\mathbf{x}_{i+1}$ and velocity vector $\\mathbf{v}_{i+1}$ at timepoint $i+1$ can be calculated from the position and velocity vectors $\\mathbf{x}_{i}$ and $\\mathbf{v}_{i}$ at time point $i$:\n",
    "\n",
    "$$ \\begin{align*}\n",
    "\\mathbf{x}_{i+1} &= \\mathbf{x}_i + \\mathbf{v}_i\\Delta t\\\\\n",
    "\\mathbf{v}_{i+1} &= \\mathbf{v}_i -\\frac{Gm_\\mathrm{e}}{r^3}\\mathbf{x_i}\\Delta t\n",
    "\\end{align*}$$\n",
    "\n"
   ]
  },
  {
   "cell_type": "code",
   "execution_count": 0,
   "metadata": {
    "collapsed": false
   },
   "outputs": [
   ],
   "source": [
   ]
  }
 ],
 "metadata": {
  "kernelspec": {
   "display_name": "Python 3 (system-wide)",
   "language": "python",
   "metadata": {
    "cocalc": {
     "description": "Python 3 programming language",
     "priority": 100,
     "url": "https://www.python.org/"
    }
   },
   "name": "python3",
   "resource_dir": "/ext/jupyter/kernels/python3"
  }
 },
 "nbformat": 4,
 "nbformat_minor": 4
}