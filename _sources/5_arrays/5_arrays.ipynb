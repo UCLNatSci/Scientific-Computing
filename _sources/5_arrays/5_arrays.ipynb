{
 "cells": [
  {
   "cell_type": "markdown",
   "metadata": {
    "collapsed": false
   },
   "source": [
    "# Arrays"
   ]
  },
  {
   "cell_type": "markdown",
   "metadata": {
    "collapsed": false
   },
   "source": [
    "We are already familiar with Python lists, which are used for storing sequences of data. In this lesson we will discover a second data type for storing sequences of data: the **Numpy array**. `Numpy` is a Python package designed for working with numerical data. To use it, first import the `numpy` package and give it the alias `np`:"
   ]
  },
  {
   "cell_type": "code",
   "execution_count": 1,
   "metadata": {
    "collapsed": false
   },
   "outputs": [
   ],
   "source": [
    "import numpy as np"
   ]
  },
  {
   "cell_type": "markdown",
   "metadata": {
    "collapsed": false
   },
   "source": [
    "The simplest way to create a `numpy` array is from a Python list. First create a list of `integers` or `floats`, then use the function `np.array` create an array:"
   ]
  },
  {
   "cell_type": "code",
   "execution_count": 2,
   "metadata": {
    "collapsed": false
   },
   "outputs": [
    {
     "name": "stdout",
     "output_type": "stream",
     "text": [
      "[5 7 4 5]\n"
     ]
    }
   ],
   "source": [
    "data = [5, 7, 4, 5] # create a Python list\n",
    "x = np.array(data) # create a numpy array called x containing the same values as 'data'\n",
    "\n",
    "print(x)"
   ]
  },
  {
   "cell_type": "markdown",
   "metadata": {
    "collapsed": false
   },
   "source": [
    "In many ways `numpy` arrays are the same as Python lists. We can access individual items by index using square brackets `x[i]` and sub-arrays using the slice notation `x[a:b]`. Remember that we include the start index `a` but exclude the end index `b`."
   ]
  },
  {
   "cell_type": "code",
   "execution_count": 3,
   "metadata": {
    "collapsed": false,
    "scrolled": true
   },
   "outputs": [
    {
     "name": "stdout",
     "output_type": "stream",
     "text": [
      "[7 4]\n"
     ]
    }
   ],
   "source": [
    "y = x[1:3] # extract elements from index 1 to 3\n",
    "print(y)"
   ]
  },
  {
   "cell_type": "markdown",
   "metadata": {
    "collapsed": false
   },
   "source": [
    "Note that `numpy` arrays can only contain numerical data. Do not try to store a `string` in an array."
   ]
  },
  {
   "cell_type": "markdown",
   "metadata": {
    "collapsed": false
   },
   "source": [
    "## Vector Operations\n",
    "Arrays support **vector operations**. These allow us to perform operations on every item in the array simultaneously, without having to use a loop. For example, to add `10` to every element in an array:"
   ]
  },
  {
   "cell_type": "code",
   "execution_count": 4,
   "metadata": {
    "collapsed": false
   },
   "outputs": [
    {
     "name": "stdout",
     "output_type": "stream",
     "text": [
      "[15 17 14 15]\n"
     ]
    }
   ],
   "source": [
    "y = x + 10\n",
    "print(y)"
   ]
  },
  {
   "cell_type": "markdown",
   "metadata": {
    "collapsed": false
   },
   "source": [
    "Or to calculate the square of every element of the array:"
   ]
  },
  {
   "cell_type": "code",
   "execution_count": 5,
   "metadata": {
    "collapsed": false
   },
   "outputs": [
    {
     "name": "stdout",
     "output_type": "stream",
     "text": [
      "[25 49 16 25]\n"
     ]
    }
   ],
   "source": [
    "z = x ** 2\n",
    "print(z)"
   ]
  },
  {
   "cell_type": "markdown",
   "metadata": {
    "collapsed": false
   },
   "source": [
    "Note this is only possible because `x` is a numpy array. The following will not work:\n",
    "\n",
    "```\n",
    "a = [1, 2, 3]\n",
    "b = a + 1 # error since a is a list\n",
    "```\n",
    "We can also perform vector operations on two arrays. For example, to multiply two arrays element-wise:"
   ]
  },
  {
   "cell_type": "code",
   "execution_count": 6,
   "metadata": {
    "collapsed": false
   },
   "outputs": [
    {
     "name": "stdout",
     "output_type": "stream",
     "text": [
      "x * y: [ 2 12 30 56]\n"
     ]
    }
   ],
   "source": [
    "x = np.array([2, 4, 6, 8])\n",
    "y = np.array([1, 3, 5, 7])\n",
    "z = x * y # multiply two arrays element-by-element\n",
    "print(\"x * y:\", z)"
   ]
  },
  {
   "cell_type": "markdown",
   "metadata": {
    "collapsed": false
   },
   "source": [
    "## Numpy Functions\n",
    "\n",
    "`Numpy` also includes a number of useful mathematical functions such as `np.sin`, `np.cos` and `np.exp`. In the same way as arithmetic operators, they can be applied to arrays elementwise.\n",
    "\n",
    "The mathematical constant $\\pi = 3.14\\ldots$ is available in numpy as `np.pi`."
   ]
  },
  {
   "cell_type": "code",
   "execution_count": 7,
   "metadata": {
    "collapsed": false
   },
   "outputs": [
    {
     "name": "stdout",
     "output_type": "stream",
     "text": [
      "theta: [0.78539816 1.57079633]\n",
      "sin(theta): [0.70710678 1.        ]\n"
     ]
    }
   ],
   "source": [
    "theta = np.array([np.pi/4, np.pi/2]) # create an array with two elements\n",
    "x = np.sin(theta) # calculate the sin of the array elements\n",
    "print(\"theta:\", theta)\n",
    "print(\"sin(theta):\", x)"
   ]
  },
  {
   "cell_type": "markdown",
   "metadata": {
    "collapsed": false
   },
   "source": [
    "## Creating Numpy Arrays\n",
    "\n",
    "Unlike Python lists, once a `numpy` array is created, it cannot be resized. We learnt how to create an empty list `[]` and add elements one at a time, but this method doesn't work for arrays. Instead, we must decide the size of the array upfront and create an array of the intended size. Use `np.zeros(n)` to create an array of `n` zeros:"
   ]
  },
  {
   "cell_type": "code",
   "execution_count": 8,
   "metadata": {
    "collapsed": false
   },
   "outputs": [
    {
     "name": "stdout",
     "output_type": "stream",
     "text": [
      "[0. 0. 0. 0. 0. 0.]\n"
     ]
    }
   ],
   "source": [
    "z = np.zeros(6) # Create an array of 6 zeros\n",
    "print(z)"
   ]
  },
  {
   "cell_type": "markdown",
   "metadata": {
    "collapsed": false
   },
   "source": [
    "Use `np.arange(a, b, step)` to create an array of evenly spaced numbers ranging from `a` to `b` with step size `step`:"
   ]
  },
  {
   "cell_type": "code",
   "execution_count": 9,
   "metadata": {
    "collapsed": false
   },
   "outputs": [
    {
     "name": "stdout",
     "output_type": "stream",
     "text": [
      "[0.  0.1 0.2 0.3 0.4 0.5 0.6 0.7 0.8 0.9]\n"
     ]
    }
   ],
   "source": [
    "z = np.arange(0, 1, 0.1)\n",
    "print(z)"
   ]
  },
  {
   "cell_type": "markdown",
   "metadata": {
    "collapsed": false
   },
   "source": [
    "Use `np.linspace(a, b, num)` To generate an `num` evenly spaced numbers between `a` and `b`:"
   ]
  },
  {
   "cell_type": "code",
   "execution_count": 10,
   "metadata": {
    "collapsed": false
   },
   "outputs": [
    {
     "name": "stdout",
     "output_type": "stream",
     "text": [
      "[0.         0.33333333 0.66666667 1.        ]\n"
     ]
    }
   ],
   "source": [
    "z = np.linspace(0, 1, 4)\n",
    "print(z)"
   ]
  },
  {
   "cell_type": "markdown",
   "metadata": {
    "collapsed": false
   },
   "source": [
    ":::{admonition} Python lists VS Numpy arrays\n",
    "\n",
    "|Python list|Numpy array|\n",
    "|---|---|\n",
    "|Variable size (use `list.append` to add an item to a list)|Fixed size (no `append` method)|\n",
    "|One-dimensional|One-dimensional or multidimensional|\n",
    "|Can store multiple data types (strings, floats, ints, other lists)|Can store only numerical data of a single type|\n",
    "|Does not support vector operations|Supports vector operations|\n",
    "|Slow|Fast|\n",
    ":::"
   ]
  },
  {
   "cell_type": "markdown",
   "metadata": {
    "collapsed": false
   },
   "source": [
    "## Example: Damped Oscillator\n",
    "The following equation describes the motion of a damped linear oscillator, where $t$ is time and $x$ is displacement.\n",
    "\n",
    "$$x(t) = e^{-\\alpha t}\\sin\\left(\\pi f t\\right)$$\n",
    "\n",
    "We will plot the trajectory of the oscillator, given $\\alpha=0.2$ and $f=1.5$."
   ]
  },
  {
   "cell_type": "code",
   "execution_count": 11,
   "metadata": {
    "collapsed": false
   },
   "outputs": [
    {
     "data": {
      "text/plain": [
       "Text(0, 0.5, 'Displacement (m)')"
      ]
     },
     "execution_count": 11,
     "metadata": {
     },
     "output_type": "execute_result"
    },
    {
     "data": {
      "image/png": "[encoded data removed]",
      "text/plain": [
       "<Figure size 432x216 with 1 Axes>"
      ]
     },
     "execution_count": 11,
     "metadata": {
      "image/png": {
       "height": 207,
       "width": 400
      },
      "needs_background": "light"
     },
     "output_type": "execute_result"
    }
   ],
   "source": [
    "alpha = 0.2\n",
    "f = 1.5\n",
    "time = np.arange(0, 10, 0.2) # create an array of evenly spaced time points between 0 and 10\n",
    "x = np.exp(-alpha * time) * np.sin(np.pi * f * time) # calculate the displacement x using vector operations \n",
    "\n",
    "import matplotlib.pyplot as plt\n",
    "plt.figure(figsize=(6,3))\n",
    "plt.plot(time, x)\n",
    "plt.xlabel(\"Time (s)\")\n",
    "plt.ylabel(\"Displacement (m)\")"
   ]
  },
  {
   "cell_type": "markdown",
   "metadata": {
    "collapsed": false
   },
   "source": [
    "## Multi-Dimensional Arrays\n",
    "We specifiy 2 dimensional arrays using a list whose elements are the rows of the array. For example, to specify the following 2-d array:\n",
    "\n",
    "$$\\left[\\begin{matrix}\n",
    "1 & 2 & 3\\\\\n",
    "4 & 5 & 6\n",
    "\\end{matrix}\\right]$$"
   ]
  },
  {
   "cell_type": "code",
   "execution_count": 12,
   "metadata": {
    "collapsed": false
   },
   "outputs": [
    {
     "name": "stdout",
     "output_type": "stream",
     "text": [
      "[[1 2 3]\n",
      " [4 5 6]]\n"
     ]
    }
   ],
   "source": [
    "data = [[1, 2, 3], [4, 5, 6]]\n",
    "x = np.array(data)\n",
    "\n",
    "print(x)"
   ]
  },
  {
   "cell_type": "markdown",
   "metadata": {
    "collapsed": false
   },
   "source": [
    "`data` is a **nested list**. Each element of `data` is itself a list representing a row of the array. Note that we can make this a lot clearer by writing each row on a separate line:"
   ]
  },
  {
   "cell_type": "code",
   "execution_count": 13,
   "metadata": {
    "collapsed": false
   },
   "outputs": [
    {
     "name": "stdout",
     "output_type": "stream",
     "text": [
      "[[1 2 3]\n",
      " [4 5 6]]\n"
     ]
    }
   ],
   "source": [
    "x = np.array([[1, 2, 3],\n",
    "              [4, 5, 6]])\n",
    "print(x)"
   ]
  },
  {
   "cell_type": "markdown",
   "metadata": {
    "collapsed": false
   },
   "source": [
    "Individual array elements are accessed using the `[]` index notation, passing one index per dimension. `x[i,j]` returns the element in row `i`, column `j`:"
   ]
  },
  {
   "cell_type": "code",
   "execution_count": 14,
   "metadata": {
    "collapsed": false
   },
   "outputs": [
    {
     "name": "stdout",
     "output_type": "stream",
     "text": [
      "2\n"
     ]
    }
   ],
   "source": [
    "z = x[0,1]\n",
    "print(z)"
   ]
  },
  {
   "cell_type": "markdown",
   "metadata": {
    "collapsed": false
   },
   "source": [
    "### Array slicing\n",
    "Use a colon `:` in place of the index to extract an entire row or column from an array. This is called taking a 'slice' from the array."
   ]
  },
  {
   "cell_type": "code",
   "execution_count": 0,
   "metadata": {
    "collapsed": false
   },
   "outputs": [
   ],
   "source": [
   ]
  },
  {
   "cell_type": "code",
   "execution_count": 15,
   "metadata": {
    "collapsed": false
   },
   "outputs": [
    {
     "name": "stdout",
     "output_type": "stream",
     "text": [
      "[1 2 3]\n"
     ]
    }
   ],
   "source": [
    "first_row = x[0,:]\n",
    "print(first_row)"
   ]
  },
  {
   "cell_type": "code",
   "execution_count": 16,
   "metadata": {
    "collapsed": false
   },
   "outputs": [
    {
     "name": "stdout",
     "output_type": "stream",
     "text": [
      "[1 4]\n"
     ]
    }
   ],
   "source": [
    "first_column = x[:,0]\n",
    "print(first_column)"
   ]
  },
  {
   "cell_type": "markdown",
   "metadata": {
    "collapsed": false
   },
   "source": [
    "Supply starting and ending indexes to extract parts of an array.  Remember that in Python, we always include the start index but exclude the end index."
   ]
  },
  {
   "cell_type": "code",
   "execution_count": 17,
   "metadata": {
    "collapsed": false
   },
   "outputs": [
    {
     "name": "stdout",
     "output_type": "stream",
     "text": [
      "[[1 2]\n",
      " [4 5]]\n"
     ]
    }
   ],
   "source": [
    "first_two_columns = x[:,:2]\n",
    "print(first_two_columns)"
   ]
  },
  {
   "cell_type": "markdown",
   "metadata": {
    "collapsed": false
   },
   "source": [
    "See the figure below for an illustration of slicing a 2-d array.\n",
    "\n",
    "```{figure} Numpy1.jpg\n",
    "---\n",
    "name: slicing-fig\n",
    "---\n",
    "Numpy array slicing\n",
    "```\n",
    "\n",
    "## Example: Population Growth\n",
    "\n",
    "The following equation describes the rate of growth of a population $x_i$ of hourly growth $r$.\n",
    "\n",
    "$$x_{i+1} = x_i + rx_i$$\n",
    "\n",
    "Previously we simulated population growth using Python lists. Below is how we might do exactly the same using arrays."
   ]
  },
  {
   "cell_type": "code",
   "execution_count": 1,
   "metadata": {
    "collapsed": false
   },
   "outputs": [
    {
     "data": {
      "text/plain": [
       "[<matplotlib.lines.Line2D at 0x7f54d608bc70>]"
      ]
     },
     "execution_count": 1,
     "metadata": {
     },
     "output_type": "execute_result"
    },
    {
     "data": {
      "image/png": "[encoded data removed]",
      "text/plain": [
       "<Figure size 864x504 with 1 Axes>"
      ]
     },
     "execution_count": 1,
     "metadata": {
      "image/png": {
       "height": 411,
       "width": 729
      },
      "needs_background": "light"
     },
     "output_type": "execute_result"
    }
   ],
   "source": [
    "import numpy as np\n",
    "import matplotlib.pyplot as plt\n",
    "\n",
    "# set parameter values\n",
    "r = 1\n",
    "n_hours = 8\n",
    "initial_population = 1000\n",
    "\n",
    "# create array of time points\n",
    "t = np.arange(0, n_hours, 1)\n",
    "\n",
    "pop = np.zeros(n_hours)\n",
    "pop[0] = initial_population\n",
    "\n",
    "# run simulation\n",
    "for i in range(n_hours - 1):\n",
    "    pop[i+1] = pop[i] + pop[i] * r\n",
    "    \n",
    "plt.plot(t, pop)"
   ]
  },
  {
   "cell_type": "code",
   "execution_count": 0,
   "metadata": {
    "collapsed": false
   },
   "outputs": [
   ],
   "source": [
   ]
  }
 ],
 "metadata": {
  "kernelspec": {
   "display_name": "Python 3 (system-wide)",
   "language": "python",
   "metadata": {
    "cocalc": {
     "description": "Python 3 programming language",
     "priority": 100,
     "url": "https://www.python.org/"
    }
   },
   "name": "python3",
   "resource_dir": "/ext/jupyter/kernels/python3"
  },
  "language_info": {
   "codemirror_mode": {
    "name": "ipython",
    "version": 3
   },
   "file_extension": ".py",
   "mimetype": "text/x-python",
   "name": "python",
   "nbconvert_exporter": "python",
   "pygments_lexer": "ipython3",
   "version": "3.8.10"
  }
 },
 "nbformat": 4,
 "nbformat_minor": 4
}