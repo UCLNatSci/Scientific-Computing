{
 "cells": [
  {
   "cell_type": "markdown",
   "metadata": {
    "collapsed": false
   },
   "source": [
    "# Strings\n",
    "\n",
    "```{admonition} What you'll learn\n",
    ":class: tip\n",
    " - How to store a sequence of character data in a string\n",
    " - How to extract substrings by slicing\n",
    " - How to use string methods\n",
    "```\n",
    "\n",
    "## Example: RNA Sequences\n",
    "\n",
    "In biology, an RNA sequence consists of a chain of the nucleotides Adenine, Uracil, Cytosine and Guanine in a specific order. We can represent an RNA sequence using the four letters `A`, `U`, `C` and `G`.\n",
    "\n",
    "```{figure} rna.png\n",
    "---\n",
    "name: RNA sequence\n",
    "---\n",
    "An RNA sequence represented by the string `AUGAGACUCUGAGAC`. The sequence is composed of three-character subsequences called codons, each of which identifies a specific amino acid. \n",
    "```\n",
    "\n",
    "```{sidebar} Amino Acid Translation Table\n",
    "\n",
    "|Amino Acid| | codons |\n",
    "|---|---|---|\n",
    "|Leucine|L|UUA, UUG, CUU, CUC, CUA, CUG|\n",
    "|Methionine|M|AUG|\n",
    "|Arginine|R|AGA, AGG, CGA, CGU, CGG, CGC|\n",
    "|Aspartic Acid|D|GAU, GAC|\n",
    "|(stop)|.|UGA|\n",
    "```"
   ]
  },
  {
   "cell_type": "markdown",
   "metadata": {
    "collapsed": false
   },
   "source": [
    "In the body, the RNA sequence is used to produce a protein in a process called translation. The sequence is first divided into three character subsequences termed 'codons'. For example, the 15 character RNA sequence `AUGAGACUCUGAGAC` is divided into the codons `AUG`, `AGA`, `CUC`, `UGA`, and `GAC`.\n",
    "\n",
    "Each of the codons identifies a specific amino acid, as shown in the partial amino acid translation table on the right. The RNA sequence `AUGAGACUCUGAGAC` would therefore be translated by the body into the amino acid sequence `methionine`, `arginine`, `leucine`, `(stop)`, `aspartic acid`. Using the abbreviated one-letter characters, this could be written as `MRL.D`.\n",
    "\n",
    "Finally, the body chains together these amino acids into a protein. The stop codon represents the end of the chain, so the RNA sequence would be translated into a protein comprising a chain of three amino acids `methionine-arginine-leucine`.\n",
    "\n",
    ":::{admonition} RNA Translation\n",
    "1. RNA sequence: `AUGAGACUCUGAGAC`\n",
    "1. Codons:  `AUG` `AGA` `CUC` `UGA` `GAC`\n",
    "1. Amino Acids: `MRL.D`\n",
    "1. Protein sequence: `MRL`\n",
    ":::"
   ]
  },
  {
   "cell_type": "markdown",
   "metadata": {
    "collapsed": false
   },
   "source": [
    "\n",
    "```{admonition} Bioinformatics\n",
    ":class: tip\n",
    "Bioinformatics is the application of tools of computation and analysis to the capture and interpretation of biological data. One of the main applications of bioinformatics is the analysis of genome sequence data, such as that undertaken by the Human Genome Project.\n",
    "```\n",
    "\n",
    "we'll now see how we can implement this procedure programmatically. In Python, a sequence of character data is termed a **string**."
   ]
  },
  {
   "cell_type": "code",
   "execution_count": 1,
   "metadata": {
    "collapsed": false
   },
   "outputs": [
    {
     "name": "stdout",
     "output_type": "stream",
     "text": [
      "RNA sequence: AUGAGACUCUGAGAC\n"
     ]
    }
   ],
   "source": [
    "rna_seq = \"AUGAGACUCUGAGAC\"\n",
    "print(\"RNA sequence:\", rna_seq)"
   ]
  },
  {
   "cell_type": "markdown",
   "metadata": {
    "collapsed": false
   },
   "source": [
    "First, let's write a function `translate` which takes a three letter string and returns a single letter representing the corresponding amino acid. "
   ]
  },
  {
   "cell_type": "code",
   "execution_count": 2,
   "metadata": {
    "collapsed": false
   },
   "outputs": [
    {
     "name": "stdout",
     "output_type": "stream",
     "text": [
      "Codon: CGG\n",
      "Amino acid: R\n"
     ]
    }
   ],
   "source": [
    "def translate(codon):\n",
    "    codon_list = [\"UUA\", \"UUG\", \"CUU\", \"CUC\", \"CUA\", \"CUG\", \"AUG\", \"AGA\", \"AGG\", \"CGA\", \"CGU\", \"CGG\", \"CGC\", \"GAU\", \"GAC\", \"UAA\", \"UAG\", \"UGA\"]\n",
    "    amino_acids = [\"L\", \"L\", \"L\", \"L\", \"L\", \"L\", \"M\", \"R\", \"R\", \"R\", \"R\", \"R\", \"R\", \"D\", \"D\", \".\",  \".\",  \".\"]\n",
    "    \n",
    "    i = codon_list.index(codon)\n",
    "    aa = amino_acids[i]\n",
    "    return aa\n",
    "\n",
    "\n",
    "# Test the function using the CGG codon\n",
    "codon = \"CGG\"\n",
    "aa = translate(\"CGG\")\n",
    "print(\"Codon:\", codon)\n",
    "print(\"Amino acid:\", aa)\n",
    "   "
   ]
  },
  {
   "cell_type": "markdown",
   "metadata": {
    "collapsed": false
   },
   "source": [
    "The list `codon_list` contains the three letter codons, and the list `amino_acids` contains the correspdonding single-letter amino acid abbreviations. Translating from codon to amino acid is simply a case of finding the index position of the codon in `codon_list` and identifying the character in the same position in `amino_acids`:\n",
    "\n",
    "```\n",
    "i = codon_list.index(codon)\n",
    "aa = amino_acids[i]\n",
    "```\n",
    "\n",
    "`i` is an integer represnting the index of the string `codon` in `codon_list`.\n",
    "\n",
    "\n",
    "```{admonition} Finding items in a list\n",
    ":class: seealso\n",
    "See the previous section **Lists and Plotting** for how to find items in a list.\n",
    "```\n",
    "\n",
    "Next, we would like to split the string `rna_seq` into three-character codons, then use our function to determine the amino acid for each."
   ]
  },
  {
   "cell_type": "code",
   "execution_count": 8,
   "metadata": {
    "collapsed": false
   },
   "outputs": [
    {
     "name": "stdout",
     "output_type": "stream",
     "text": [
      "M\n",
      "R\n",
      "L\n",
      ".\n",
      "D\n"
     ]
    }
   ],
   "source": [
    "n = len(rna_seq)\n",
    "for i in range(0, n, 3):\n",
    "    codon = rna_seq[i:i+3]\n",
    "    print(translate(codon))"
   ]
  },
  {
   "cell_type": "markdown",
   "metadata": {
    "collapsed": false
   },
   "source": [
    "First we use the `len` function to determine the number of characters in the string `rna_seq`. Next we generate a loop from `0` to `n` in steps of `3`:\n",
    "\n",
    "```\n",
    "for i in range(0, n, 3):\n",
    "```\n",
    "\n",
    "The expression `rna_seq[i:i+3]` extracts the a 3-character substring from `rna_seq` begining at the character at index `i`.\n",
    "\n",
    "Finally, what if we'd like to stop processing the sequence once we reach the 'stop' codon? Python has a useful keyword `break` which allows us to do exactly that:"
   ]
  },
  {
   "cell_type": "code",
   "execution_count": 21,
   "metadata": {
    "collapsed": false
   },
   "outputs": [
    {
     "name": "stdout",
     "output_type": "stream",
     "text": [
      "M\n",
      "R\n",
      "L\n"
     ]
    }
   ],
   "source": [
    "n = len(rna_seq)\n",
    "for i in range(0, n, 3):\n",
    "    codon = rna_seq[i:i+3]\n",
    "    if codon == \"UGA\":\n",
    "        break\n",
    "    print(translate(codon))"
   ]
  },
  {
   "cell_type": "markdown",
   "metadata": {
    "collapsed": false
   },
   "source": [
    "As soon as the `break` keyword is reached, the enclosing `for` loop is exited, even if this means aborting the loop early."
   ]
  },
  {
   "cell_type": "markdown",
   "metadata": {
    "collapsed": false
   },
   "source": [
    "\n",
    "## String Variables\n",
    "A string is data type representing character data. In Python, string literals are surrounded either by double quote `\"` or single quote `'` characters."
   ]
  },
  {
   "cell_type": "code",
   "execution_count": 11,
   "metadata": {
    "collapsed": false
   },
   "outputs": [
    {
     "name": "stdout",
     "output_type": "stream",
     "text": [
      "Season's greetings\n"
     ]
    }
   ],
   "source": [
    "greeting_start = \"Season's\"\n",
    "greeting_end = 'greetings'\n",
    "\n",
    "print(greeting_start, greeting_end)"
   ]
  },
  {
   "cell_type": "markdown",
   "metadata": {
    "collapsed": false
   },
   "source": [
    "## String Concatenation\n",
    "Use the `+` symbol to **concatentate** strings"
   ]
  },
  {
   "cell_type": "code",
   "execution_count": 12,
   "metadata": {
    "collapsed": false
   },
   "outputs": [
    {
     "name": "stdout",
     "output_type": "stream",
     "text": [
      "Season's greetings\n"
     ]
    }
   ],
   "source": [
    "greeting = greeting_start + \" \" + greeting_end\n",
    "print(greeting)"
   ]
  },
  {
   "cell_type": "markdown",
   "metadata": {
    "collapsed": false
   },
   "source": [
    "But it is not possible to concatentate a string and a number:"
   ]
  },
  {
   "cell_type": "code",
   "execution_count": 13,
   "metadata": {
    "collapsed": false
   },
   "outputs": [
    {
     "ename": "TypeError",
     "evalue": "can only concatenate str (not \"int\") to str",
     "output_type": "error",
     "traceback": [
      "\u001b[0;31m---------------------------------------------------------------------------\u001b[0m",
      "\u001b[0;31mTypeError\u001b[0m                                 Traceback (most recent call last)",
      "\u001b[0;32m/tmp/ipykernel_1438/2560201398.py\u001b[0m in \u001b[0;36m<module>\u001b[0;34m\u001b[0m\n\u001b[0;32m----> 1\u001b[0;31m \u001b[0mid\u001b[0m \u001b[0;34m=\u001b[0m \u001b[0mgreeting\u001b[0m \u001b[0;34m+\u001b[0m \u001b[0;36m55\u001b[0m\u001b[0;34m\u001b[0m\u001b[0;34m\u001b[0m\u001b[0m\n\u001b[0m",
      "\u001b[0;31mTypeError\u001b[0m: can only concatenate str (not \"int\") to str"
     ]
    }
   ],
   "source": [
    "id = greeting + 55"
   ]
  },
  {
   "cell_type": "markdown",
   "metadata": {
    "collapsed": false
   },
   "source": [
    "## Converting between strings and numbers\n",
    "\n",
    "Functions `str`, `int` and `float` are available to convert between strings and other data types."
   ]
  },
  {
   "cell_type": "code",
   "execution_count": 14,
   "metadata": {
    "collapsed": false
   },
   "outputs": [
    {
     "name": "stdout",
     "output_type": "stream",
     "text": [
      "1729_NEW\n"
     ]
    }
   ],
   "source": [
    "# convert from integer to string\n",
    "id = 1729\n",
    "new_id = str(id) + \"_NEW\"\n",
    "print(new_id)\n"
   ]
  },
  {
   "cell_type": "code",
   "execution_count": 15,
   "metadata": {
    "collapsed": false
   },
   "outputs": [
    {
     "name": "stdout",
     "output_type": "stream",
     "text": [
      "15.588\n"
     ]
    }
   ],
   "source": [
    "# convert from string to floating-point number\n",
    "price = \"12.99\"\n",
    "total_price = float(price) * 1.2\n",
    "print(total_price)"
   ]
  },
  {
   "cell_type": "markdown",
   "metadata": {
    "collapsed": false
   },
   "source": [
    "## String Methods\n",
    "A string is an **object**, which is a data type with **methods** directly attached with it which can be called similarly to calling a function. The `upper` method converts a string to upper case, and `lower` to lowercase:"
   ]
  },
  {
   "cell_type": "code",
   "execution_count": 19,
   "metadata": {
    "collapsed": false
   },
   "outputs": [
    {
     "name": "stdout",
     "output_type": "stream",
     "text": [
      "JEREMY BENTHAM\n",
      "jeremy bentham\n"
     ]
    }
   ],
   "source": [
    "name = \"Jeremy Bentham\"\n",
    "name_uppercase = name.upper()\n",
    "print(name_uppercase)\n",
    "name_lowercase = name.lower()\n",
    "print(name_lowercase)"
   ]
  },
  {
   "cell_type": "markdown",
   "metadata": {
    "collapsed": false
   },
   "source": [
    "Other useful methods are `split`, `join` and `trim`. `split` splits the string into individual words and returns them as a list:"
   ]
  },
  {
   "cell_type": "code",
   "execution_count": 17,
   "metadata": {
    "collapsed": false,
    "scrolled": true
   },
   "outputs": [
    {
     "name": "stdout",
     "output_type": "stream",
     "text": [
      "['The', 'time', 'has', 'come']\n"
     ]
    }
   ],
   "source": [
    "text = \"The time has come\"\n",
    "word_list = text.split()\n",
    "print(word_list)"
   ]
  },
  {
   "cell_type": "markdown",
   "metadata": {
    "collapsed": false
   },
   "source": [
    "`join` does the reverse, combining a list of strings into a single string. `s1.join(word_list)` joins the strings in ``"
   ]
  },
  {
   "cell_type": "code",
   "execution_count": 3,
   "metadata": {
    "collapsed": false
   },
   "outputs": [
    {
     "data": {
      "text/plain": [
       "'The, time, has, come'"
      ]
     },
     "execution_count": 3,
     "metadata": {
     },
     "output_type": "execute_result"
    }
   ],
   "source": [
    "\", \".join(word_list)"
   ]
  },
  {
   "cell_type": "markdown",
   "metadata": {
    "collapsed": false
   },
   "source": [
    "`strip` removes any white space characters (spaces, tabs or newlines) at the start or end of the string:"
   ]
  },
  {
   "cell_type": "code",
   "execution_count": 21,
   "metadata": {
    "collapsed": false
   },
   "outputs": [
    {
     "name": "stdout",
     "output_type": "stream",
     "text": [
      "too much space!\n"
     ]
    }
   ],
   "source": [
    "text = \"  too much space!   \"\n",
    "text2 = text.strip()\n",
    "print(text2)"
   ]
  },
  {
   "cell_type": "markdown",
   "metadata": {
    "collapsed": false
   },
   "source": [
    "## Strings and Characters\n",
    "A string is composed of a sequence of characters, and most of the operations that can be performed on lists can also be performed on strings. For example, individual characters can be accessed using square brackets enclosing the index position."
   ]
  },
  {
   "cell_type": "code",
   "execution_count": 34,
   "metadata": {
    "collapsed": false
   },
   "outputs": [
    {
     "name": "stdout",
     "output_type": "stream",
     "text": [
      "N s\n"
     ]
    }
   ],
   "source": [
    "text = \"Natural Sciences\"\n",
    "# first character is at index 0\n",
    "first_initial = text[0]\n",
    "# last character is at index -1\n",
    "final_character = text[-1]\n",
    "print(first_initial, final_character)"
   ]
  },
  {
   "cell_type": "markdown",
   "metadata": {
    "collapsed": false
   },
   "source": [
    "Use the `len` function to find the length of a string."
   ]
  },
  {
   "cell_type": "code",
   "execution_count": 11,
   "metadata": {
    "collapsed": false
   },
   "outputs": [
    {
     "name": "stdout",
     "output_type": "stream",
     "text": [
      "6\n"
     ]
    }
   ],
   "source": [
    "s = \"Mighty\"\n",
    "x = len(s)\n",
    "print(x)"
   ]
  },
  {
   "cell_type": "markdown",
   "metadata": {
    "collapsed": false
   },
   "source": [
    ":::{note}\n",
    "An important difference between lists and strings: whereas it is possible to change the value of an an individual list item, it is **not** possible to change an indivdual string character. We say that strings are **immutable**.\n",
    "```\n",
    "x = [4, 5, 6]\n",
    "x[0] = 10 # this is OK\n",
    "s = \"ABC\"\n",
    "s[0] = \"X\" # this will result in an error\n",
    "```\n",
    "Likewise, it is not possible to append a character to a string. Instead, use string concatenation.\n",
    "```\n",
    "s.append(\"D\") # Error\n",
    "s = s + \"D\" # This is OK\n",
    "```\n",
    ":::"
   ]
  },
  {
   "cell_type": "markdown",
   "metadata": {
    "collapsed": false
   },
   "source": [
    "## Slicing Lists and Strings\n",
    "\n",
    "Given a list or string, we can access a single element using square brackets:\n"
   ]
  },
  {
   "cell_type": "code",
   "execution_count": 26,
   "metadata": {
    "collapsed": false,
    "scrolled": true
   },
   "outputs": [
    {
     "name": "stdout",
     "output_type": "stream",
     "text": [
      "4\n"
     ]
    }
   ],
   "source": [
    "x = [4, 5, 6, 7, 8, 9]\n",
    "y = x[0]\n",
    "print(y)"
   ]
  },
  {
   "cell_type": "markdown",
   "metadata": {
    "collapsed": false
   },
   "source": [
    "If we want to access a sublist, we can use array **slicing**. Given integers `a` and `b`, `x[a:b]` returns a new list which contains the elements of `x` from index `a` to `b - 1` (i.e. including element `a` but excluding element `b`)."
   ]
  },
  {
   "cell_type": "code",
   "execution_count": 27,
   "metadata": {
    "collapsed": false
   },
   "outputs": [
    {
     "name": "stdout",
     "output_type": "stream",
     "text": [
      "[4, 5, 6]\n"
     ]
    }
   ],
   "source": [
    "z = x[0:3]\n",
    "print(z)"
   ]
  },
  {
   "cell_type": "markdown",
   "metadata": {
    "collapsed": false
   },
   "source": [
    "`x[a:b:c]` returns a list containing items `a` to `b - 1` with a step size of `c` (this is very similar to the `range` function),"
   ]
  },
  {
   "cell_type": "code",
   "execution_count": 30,
   "metadata": {
    "collapsed": false
   },
   "outputs": [
    {
     "name": "stdout",
     "output_type": "stream",
     "text": [
      "[4, 6, 8]\n"
     ]
    }
   ],
   "source": [
    "w = x[0:9:2]\n",
    "print(w)"
   ]
  },
  {
   "cell_type": "markdown",
   "metadata": {
    "collapsed": false
   },
   "source": [
    "## Example\n",
    "Natural Sciences modules are identified by a 8 character code consisting of `NSCI` followed by a four digit number. The following paragraph of text contains Natural Sciences module codes mixed up with other data. We will write Python code to extract a list of Module codes from the text."
   ]
  },
  {
   "cell_type": "code",
   "execution_count": 32,
   "metadata": {
    "collapsed": false
   },
   "outputs": [
    {
     "name": "stdout",
     "output_type": "stream",
     "text": [
      "['NSCI0007', 'NSCI0011', 'NSCI0004', 'NSCI0005']\n"
     ]
    }
   ],
   "source": [
    "text = \"Surrounded NSCI0007 me occasional pianoforte NSCI0011 alteration unaffected impossible ye. For saw half than cold.  arrived adapted. Numerous ladyship so raillery humoured goodness received an. So NSCI0004 formal length my highly NSCI0005 afford oh. Tall neat he make or at dull ye.\"\n",
    "\n",
    "n = len(text) # determine the number of characters in the text\n",
    "module_list = [] # create an empty list\n",
    "for i in range(n): # i loops of all index positions in text\n",
    "    if text[i:i + 4] == \"NSCI\": # exctact a 4 character substring and check if it is equal to \"NSCI\"\n",
    "        module_list.append(text[i:i + 8]) # add 8 characters to the list\n",
    "print(module_list)\n",
    "    "
   ]
  },
  {
   "cell_type": "markdown",
   "metadata": {
    "collapsed": false
   },
   "source": [
    ":::{note}  \n",
    "- String comparison is **case-sensitive** so `\"S\" == \"s\"` is `False`.\n",
    "- Remember to use a double equals to check for equality.\n",
    ":::"
   ]
  },
  {
   "cell_type": "markdown",
   "metadata": {
    "collapsed": false
   },
   "source": [
    "## Escape Sequences\n",
    "\n",
    "If you want to include special characters in a string, use an **escape sequence**. Precede the character you want to want to escape by a backslash character `\\`."
   ]
  },
  {
   "cell_type": "code",
   "execution_count": 13,
   "metadata": {
    "collapsed": false
   },
   "outputs": [
    {
     "name": "stdout",
     "output_type": "stream",
     "text": [
      "\"The time has come\", the Walrus said.\n"
     ]
    }
   ],
   "source": [
    "quote = '\"The time has come\", the Walrus said.'\n",
    "print(quote)"
   ]
  },
  {
   "cell_type": "code",
   "execution_count": 14,
   "metadata": {
    "collapsed": false
   },
   "outputs": [
    {
     "name": "stdout",
     "output_type": "stream",
     "text": [
      "\"The time has come\", the Walrus said.\n"
     ]
    }
   ],
   "source": [
    "quote = \"\\\"The time has come\\\", the Walrus said.\"\n",
    "print(quote)"
   ]
  },
  {
   "cell_type": "markdown",
   "metadata": {
    "collapsed": false
   },
   "source": [
    "This can also be used to include a backslash character in the string."
   ]
  },
  {
   "cell_type": "code",
   "execution_count": 20,
   "metadata": {
    "collapsed": false
   },
   "outputs": [
    {
     "name": "stdout",
     "output_type": "stream",
     "text": [
      "A\\B\n"
     ]
    }
   ],
   "source": [
    "quote = \"A\\\\B\"\n",
    "print(quote)"
   ]
  },
  {
   "cell_type": "markdown",
   "metadata": {
    "collapsed": false
   },
   "source": [
    "A very useful excape sequence is `\\n`, which denotes a **newline** character."
   ]
  },
  {
   "cell_type": "code",
   "execution_count": 21,
   "metadata": {
    "collapsed": false
   },
   "outputs": [
    {
     "name": "stdout",
     "output_type": "stream",
     "text": [
      "A\n",
      "AB\n",
      "ABC\n"
     ]
    }
   ],
   "source": [
    "print(\"A\\nAB\\nABC\")"
   ]
  },
  {
   "cell_type": "markdown",
   "metadata": {
    "collapsed": false
   },
   "source": [
    "## Multi-line Strings\n",
    "String literals can span multiple lines, using triple-quotes: `\"\"\"`...`\"\"\"` or `'''`...`'''`."
   ]
  },
  {
   "cell_type": "code",
   "execution_count": 1,
   "metadata": {
    "collapsed": false
   },
   "outputs": [
    {
     "name": "stdout",
     "output_type": "stream",
     "text": [
      "Twas the night before Christmas,\n",
      "when all through the house\n",
      "Not a creature was stirring,\n",
      "not even a mouse.\n"
     ]
    }
   ],
   "source": [
    "long_string = \"\"\"Twas the night before Christmas,\n",
    "when all through the house\n",
    "Not a creature was stirring,\n",
    "not even a mouse.\"\"\"\n",
    "print(long_string)"
   ]
  }
 ],
 "metadata": {
  "kernelspec": {
   "display_name": "Python 3 (system-wide)",
   "language": "python",
   "metadata": {
    "cocalc": {
     "description": "Python 3 programming language",
     "priority": 100,
     "url": "https://www.python.org/"
    }
   },
   "name": "python3",
   "resource_dir": "/ext/jupyter/kernels/python3"
  },
  "language_info": {
   "codemirror_mode": {
    "name": "ipython",
    "version": 3
   },
   "file_extension": ".py",
   "mimetype": "text/x-python",
   "name": "python",
   "nbconvert_exporter": "python",
   "pygments_lexer": "ipython3",
   "version": "3.8.10"
  }
 },
 "nbformat": 4,
 "nbformat_minor": 4
}