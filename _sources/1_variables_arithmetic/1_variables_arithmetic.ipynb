{
 "cells": [
  {
   "cell_type": "markdown",
   "metadata": {
    "collapsed": false
   },
   "source": [
    "# Python Fundamentals\n",
    "\n",
    "Programming is all about breaking down a problem into simple steps that the computer can understand. In this case, the 'simple steps' are instructions, written in the Python programming language, which perform simple operations such as performing arithmetic calculations or setting the value of variables. These instructions are usually performed one at a time in sequence, although some instructions might cause the program to branch to a different section of code or to repeat a section of code. In this section we will introduce some of the most common Python constructs and some techniques to solve simple computational problems.\n",
    "\n",
    "```{admonition} What you'll learn\n",
    ":class: tip\n",
    " - How to create variables\n",
    " - How to perform arithmetic calcuations\n",
    " - Displaying output using `print`\n",
    " - Branching using the `if` statement\n",
    " - Looping using the `while` statement\n",
    " - Using pseudocode to construct the solution to a problem\n",
    "```\n",
    "## Example\n",
    "\n",
    "We'll start with a simple example of a Python program which simulates the growth in population of a colony of bacteria. Suppose we start with 100 cells and the population doubles every hour. How many hours will it take to reach a population of 10000 cells?"
   ]
  },
  {
   "cell_type": "code",
   "execution_count": 3,
   "metadata": {
    "collapsed": false
   },
   "outputs": [
    {
     "name": "stdout",
     "output_type": "stream",
     "text": [
      "200\n",
      "400\n",
      "800\n",
      "1600\n",
      "3200\n",
      "6400\n",
      "12800\n"
     ]
    }
   ],
   "source": [
    "pop = 100\n",
    "\n",
    "while pop < 10000:\n",
    "    # double the population\n",
    "    pop = pop * 2\n",
    "    print(pop)"
   ]
  },
  {
   "cell_type": "markdown",
   "metadata": {
    "collapsed": false
   },
   "source": [
    "Let's examine each line in turn. First, we define a **variable** `pop` and set its value to 100:\n",
    "\n",
    "```\n",
    "pop = 100\n",
    "```\n",
    "\n",
    "Then we define a `while` loop. A `while` loop repeats a section of code while the specified condition is true:\n",
    "\n",
    "```\n",
    "while pop < 10000:\n",
    "```\n",
    "\n",
    "The code in the indented block below this line is then executed repeatedly. The line `# double the population` is a comment and is ignored by the Python interpreter. Next, multiply `pop` by 2:\n",
    "\n",
    "```\n",
    "    pop = pop * 2\n",
    "```\n",
    "\n",
    "Then `print` the value of `pop`:\n",
    "\n",
    "```\n",
    "   print(pop)\n",
    "```\n",
    "\n",
    "Execution terminates once the condition `pop < 1000` becomes false.\n",
    "\n",
    "When we run the code, we can see that it prints 7 values, so it must take 7 hours for the population to exceed 10000. But let's adapt the code so that it prints this number. We'll need to introduce a second variable to keep track of the number of hours:"
   ]
  },
  {
   "cell_type": "code",
   "execution_count": 4,
   "metadata": {
    "collapsed": false
   },
   "outputs": [
    {
     "name": "stdout",
     "output_type": "stream",
     "text": [
      "200\n",
      "400\n",
      "800\n",
      "1600\n",
      "3200\n",
      "6400\n",
      "12800\n",
      "Number of hours: 7\n"
     ]
    }
   ],
   "source": [
    "pop = 100\n",
    "i = 0\n",
    "while pop < 10000:\n",
    "    pop = pop * 2\n",
    "    i = i + 1\n",
    "    print(pop)\n",
    "    \n",
    "print(\"Number of hours:\", i)"
   ]
  },
  {
   "cell_type": "markdown",
   "metadata": {
    "collapsed": false
   },
   "source": [
    "The value of `i` is initialised to zero, and then increased by 1 during each iteration of the loop. Notice that the value of `pop` is printed 7 times, whereas the Number of hours `i` is only printed once after the loop terminates since it is outside the indented block.\n",
    "\n",
    "Finally, suppose the the population growth rate is 1.02 rather than 2. If we print the population in every iteration of the loop, we're going to have an enormous list of numbers. So let's print it only once every 24 hours instead:"
   ]
  },
  {
   "cell_type": "code",
   "execution_count": 13,
   "metadata": {
    "collapsed": false
   },
   "outputs": [
    {
     "name": "stdout",
     "output_type": "stream",
     "text": [
      "160.84372494752262\n",
      "258.70703854994304\n",
      "416.1140375051517\n",
      "669.293317952817\n",
      "1076.516303420177\n",
      "1731.5089220883863\n",
      "2785.023448085657\n",
      "4479.535454562904\n",
      "7205.051685463912\n",
      "Number of hours: 233\n"
     ]
    }
   ],
   "source": [
    "pop = 100\n",
    "i = 0\n",
    "while pop < 10000:\n",
    "    pop = pop * 1.02\n",
    "    i = i + 1\n",
    "    if i % 24 == 0:\n",
    "        print(pop)\n",
    "    \n",
    "print(\"Number of hours:\", i)"
   ]
  },
  {
   "cell_type": "markdown",
   "metadata": {
    "collapsed": false
   },
   "source": [
    "We have introduced the following line `if i % 24 == 0:`. There are two separate constructs here: an `if` statement and the `%` operator. The indented code `print(pop)` will only be executed if the condition `i % 24 == 0` is true. `i % 24` means 'remainder after dividing `i` by 24', which is only equal to zero when `i` is a multiple of 24. We'll look at this in more detail later."
   ]
  },
  {
   "cell_type": "markdown",
   "metadata": {
    "collapsed": false
   },
   "source": [
    "This may be a simple example, but there is already some significant complexity hidden in here. We'll now cover in more detail the various language constructs used here, and introduce a few more.\n",
    "\n",
    "## Variables\n",
    "\n",
    "A **variable** is a named storage location in the computer's memory. We store a value in a variable so that we can use it later in our computations.\n",
    "\n",
    "We use **assignment** to set the value of a variable:"
   ]
  },
  {
   "cell_type": "code",
   "execution_count": 4,
   "metadata": {
    "collapsed": false
   },
   "outputs": [
    {
     "name": "stdout",
     "output_type": "stream",
     "text": [
      "35\n"
     ]
    }
   ],
   "source": [
    "speed = 35 # assign the value 35 to a variable called speed\n",
    "print(speed)"
   ]
  },
  {
   "cell_type": "markdown",
   "metadata": {
    "collapsed": false
   },
   "source": [
    "We can assign a new value to an existing variable:"
   ]
  },
  {
   "cell_type": "code",
   "execution_count": 5,
   "metadata": {
    "collapsed": false
   },
   "outputs": [
    {
     "name": "stdout",
     "output_type": "stream",
     "text": [
      "40\n"
     ]
    }
   ],
   "source": [
    "speed = 40 # The new value replaces the old value\n",
    "print(speed)"
   ]
  },
  {
   "cell_type": "markdown",
   "metadata": {
    "collapsed": false
   },
   "source": [
    "Assignment is not the same as equality. We can have the same variable on both sides of the equals sign:"
   ]
  },
  {
   "cell_type": "code",
   "execution_count": 6,
   "metadata": {
    "collapsed": false
   },
   "outputs": [
    {
     "name": "stdout",
     "output_type": "stream",
     "text": [
      "42\n"
     ]
    }
   ],
   "source": [
    "speed = speed + 2 # Calculcate speed + 2 then assign the result to variable 'speed'\n",
    "print(speed)"
   ]
  },
  {
   "cell_type": "markdown",
   "metadata": {
    "collapsed": false
   },
   "source": [
    "This is a legal statement because Python first evaluates the expression on the right of the equals sign (`speed + 2`) and *then* places the result into the variable on the left."
   ]
  },
  {
   "cell_type": "markdown",
   "metadata": {
    "collapsed": false
   },
   "source": [
    "```{note}\n",
    "**VARIABLE NAMING RULES**  \n",
    "- A variable name can only contain alpha-numeric characters and underscores (`A-Z`, `a-z`, `0-9`, and `_`)\n",
    "- A variable name cannot start with a number\n",
    "- Variable names are case-sensitive (`age`, `Age` and `AGE` are three different variables)\n",
    "```\n",
    ":::{warning}\n",
    "Beware of accidentally renaming Python keywords. The following is correct Python but a Very Bad Idea because it renames the `print` function, which will result in some very weird errors!\n",
    "\n",
    "```\n",
    "print = 5\n",
    "\n",
    "print(print) # this won't work.\n",
    "```\n",
    ":::\n"
   ]
  },
  {
   "cell_type": "markdown",
   "metadata": {
    "collapsed": false
   },
   "source": [
    "## Printing\n",
    "\n",
    "The `print` function is used to display values to the screen."
   ]
  },
  {
   "cell_type": "code",
   "execution_count": 6,
   "metadata": {
    "collapsed": false
   },
   "outputs": [
    {
     "name": "stdout",
     "output_type": "stream",
     "text": [
      "Good morning :-)\n"
     ]
    }
   ],
   "source": [
    "print(\"Good morning :-)\")"
   ]
  },
  {
   "cell_type": "markdown",
   "metadata": {
    "collapsed": false
   },
   "source": [
    "```\n",
    "print(\"Good morning :-)\")\n",
    "```\n",
    "instructs Python to display a line of text. We call the function `print` and pass it the text to be displayed.  \n",
    "\n",
    "A sequence of characters enclosed in quotation marks  \n",
    "```\n",
    "\"Good morning :-)\"\n",
    "```\n",
    "is called a **string**.\n",
    "\n",
    "The print statement can also print numbers. The following example evaluates `3 + 4` and prints the result:"
   ]
  },
  {
   "cell_type": "code",
   "execution_count": 4,
   "metadata": {
    "collapsed": false,
    "scrolled": true
   },
   "outputs": [
    {
     "name": "stdout",
     "output_type": "stream",
     "text": [
      "7\n"
     ]
    }
   ],
   "source": [
    "print(3 + 4)"
   ]
  },
  {
   "cell_type": "markdown",
   "metadata": {
    "collapsed": false
   },
   "source": [
    "The print statement can print multiple values. Separate each value by a comma:"
   ]
  },
  {
   "cell_type": "code",
   "execution_count": 9,
   "metadata": {
    "collapsed": false
   },
   "outputs": [
    {
     "name": "stdout",
     "output_type": "stream",
     "text": [
      "3 + 4 = 7 :-)\n"
     ]
    }
   ],
   "source": [
    "print(\"3 + 4 =\", 3 + 4, \":-)\")"
   ]
  },
  {
   "cell_type": "markdown",
   "metadata": {
    "collapsed": false
   },
   "source": [
    "Notice that Python inserts a space between each value.\n",
    "\n",
    "The `print` function starts a new line after each statement. If no arguments are passed to the function, it prints a blank line. "
   ]
  },
  {
   "cell_type": "code",
   "execution_count": 10,
   "metadata": {
    "collapsed": false
   },
   "outputs": [
    {
     "name": "stdout",
     "output_type": "stream",
     "text": [
      "***\n",
      "\n",
      "***\n"
     ]
    }
   ],
   "source": [
    "print(\"***\")\n",
    "print()\n",
    "print(\"***\")"
   ]
  },
  {
   "cell_type": "markdown",
   "metadata": {
    "collapsed": false
   },
   "source": [
    ":::{note}\n",
    "`print` is the first of many Python in-built functions that we will study.\n",
    "\n",
    "You can find out more about Python functions by using the **`help()`** function. For example, we can see change the default seperator using `sep`\n",
    ":::"
   ]
  },
  {
   "cell_type": "code",
   "execution_count": 1,
   "metadata": {
    "collapsed": false,
    "scrolled": true
   },
   "outputs": [
    {
     "name": "stdout",
     "output_type": "stream",
     "text": [
      "Help on built-in function print in module builtins:\n",
      "\n",
      "print(...)\n",
      "    print(value, ..., sep=' ', end='\\n', file=sys.stdout, flush=False)\n",
      "    \n",
      "    Prints the values to a stream, or to sys.stdout by default.\n",
      "    Optional keyword arguments:\n",
      "    file:  a file-like object (stream); defaults to the current sys.stdout.\n",
      "    sep:   string inserted between values, default a space.\n",
      "    end:   string appended after the last value, default a newline.\n",
      "    flush: whether to forcibly flush the stream.\n",
      "\n"
     ]
    }
   ],
   "source": [
    "help(print)"
   ]
  },
  {
   "cell_type": "code",
   "execution_count": 2,
   "metadata": {
    "collapsed": false
   },
   "outputs": [
    {
     "name": "stdout",
     "output_type": "stream",
     "text": [
      "1-2-3\n"
     ]
    }
   ],
   "source": [
    "print(\"1\", \"2\", \"3\", sep=\"-\")"
   ]
  },
  {
   "cell_type": "markdown",
   "metadata": {
    "collapsed": false
   },
   "source": [
    ":::{admonition} Pseudocode\n",
    "Pseudocode is a way to represent the solution to a programming problem in 'plain English', without worring about correct programming syntax. For example, suppose we have the following problem:\n",
    "\n",
    "> The value of a loan increases by 1.3% every month, except in December when it is reduced by 100 pounds. How many months will it take for a 1000 pound loan to reach 2000 pounds?\n",
    "\n",
    "We might write this in pseudo code as follows:\n",
    "\n",
    "```none\n",
    "set loan to 1000  \n",
    "set counter to 0  \n",
    "repeat until loan is greater than 2000:\n",
    "  if counter is divisble by 12:\n",
    "    decrease loan by 100\n",
    "  otherwise\n",
    "    multiply loan by 1.013\n",
    "  increase counter by 1\n",
    "display value of counter\n",
    "```\n",
    "\n",
    "By writing the pseudocode, we can establish the correct algorithm for the solution, before turning it into syntatically-correct Python code. There exist several 'standard' versions of pseudocode, although in this course I encourage you to write it in any way which makes sense to you!\n",
    ":::"
   ]
  },
  {
   "cell_type": "markdown",
   "metadata": {
    "collapsed": false
   },
   "source": [
    "## Number Types\n",
    "\n",
    "Every Python variable has a **data type** as well as a value. The type determines what operations can be performed on the variable and how it is stored in the computer's memory. Python supports a number of primitive data types including numbers, strings, lists and files and in particular there are two number types: **integers** and **floating point numbers**. When we specify a number in code it is important to understand which type we are creating:\n",
    "\n",
    "|Number|Type|Description|\n",
    "|---|---|---|\n",
    "|`5`|`int`|A whole number|\n",
    "|`-5`|`int`|A negative integer|\n",
    "|`0.5`|`float`|A number with decimal part|\n",
    "|`5.0`|`float`|Including a decimal point always results in type `float`|\n",
    "|`5e6`|`float`|$5\\times10^6$|\n",
    "|`2.34e-5`|`float`|$2.34\\times10^{-5}$|"
   ]
  },
  {
   "cell_type": "markdown",
   "metadata": {
    "collapsed": false
   },
   "source": [
    "## Arithmetic Operators\n",
    "Python supports basic arithmetic operations addition, subtraction, multiplication and division using the symbols `+`, `-`, `*` and `/`. Brackets are used to indicate the order in which the parts of an expression are computed. For example, in the following expression, the division is performed first and then the addition."
   ]
  },
  {
   "cell_type": "code",
   "execution_count": 8,
   "metadata": {
    "collapsed": false,
    "scrolled": true
   },
   "outputs": [
    {
     "data": {
      "text/plain": [
       "5.0"
      ]
     },
     "execution_count": 8,
     "metadata": {
     },
     "output_type": "execute_result"
    }
   ],
   "source": [
    "3 + 4 / 2"
   ]
  },
  {
   "cell_type": "markdown",
   "metadata": {
    "collapsed": false
   },
   "source": [
    "In order to compute $\\frac{3 + 4}{2}$, use brackets:"
   ]
  },
  {
   "cell_type": "code",
   "execution_count": 9,
   "metadata": {
    "collapsed": false,
    "scrolled": true
   },
   "outputs": [
    {
     "data": {
      "text/plain": [
       "3.5"
      ]
     },
     "execution_count": 9,
     "metadata": {
     },
     "output_type": "execute_result"
    }
   ],
   "source": [
    "(3 + 4) / 2"
   ]
  },
  {
   "cell_type": "markdown",
   "metadata": {
    "collapsed": false
   },
   "source": [
    "In order to calculate powers, use the `**` operator. For example, the following calculates the $8^3$:"
   ]
  },
  {
   "cell_type": "code",
   "execution_count": 10,
   "metadata": {
    "collapsed": false
   },
   "outputs": [
    {
     "data": {
      "text/plain": [
       "512"
      ]
     },
     "execution_count": 10,
     "metadata": {
     },
     "output_type": "execute_result"
    }
   ],
   "source": [
    "8 ** 3"
   ]
  },
  {
   "cell_type": "markdown",
   "metadata": {
    "collapsed": false
   },
   "source": [
    "## Modulo Arithmetic\n",
    "\n",
    "Using the `/` operator results in a float-point value:"
   ]
  },
  {
   "cell_type": "code",
   "execution_count": 11,
   "metadata": {
    "collapsed": false
   },
   "outputs": [
    {
     "data": {
      "text/plain": [
       "2.25"
      ]
     },
     "execution_count": 11,
     "metadata": {
     },
     "output_type": "execute_result"
    }
   ],
   "source": [
    "9 / 4"
   ]
  },
  {
   "cell_type": "markdown",
   "metadata": {
    "collapsed": false
   },
   "source": [
    "On the other hand, the `//` operator performs **floor division**, computing the quotient and discarding the fractional part:"
   ]
  },
  {
   "cell_type": "code",
   "execution_count": 12,
   "metadata": {
    "collapsed": false
   },
   "outputs": [
    {
     "data": {
      "text/plain": [
       "2"
      ]
     },
     "execution_count": 12,
     "metadata": {
     },
     "output_type": "execute_result"
    }
   ],
   "source": [
    "9 // 4"
   ]
  },
  {
   "cell_type": "markdown",
   "metadata": {
    "collapsed": false
   },
   "source": [
    "To calculate the remainder after floor division, use the **modulus** operator `%`:"
   ]
  },
  {
   "cell_type": "code",
   "execution_count": 13,
   "metadata": {
    "collapsed": false
   },
   "outputs": [
    {
     "data": {
      "text/plain": [
       "1"
      ]
     },
     "execution_count": 13,
     "metadata": {
     },
     "output_type": "execute_result"
    }
   ],
   "source": [
    "9 % 4"
   ]
  },
  {
   "cell_type": "markdown",
   "metadata": {
    "collapsed": false
   },
   "source": [
    "### Example 1\n",
    "The `%` operator is useful to determine if a variable is divisible by a number. For example, if a number is even its remainder after dividing by 2 is zero; if it is odd its remainder after dividing by 2 is 1:"
   ]
  },
  {
   "cell_type": "code",
   "execution_count": 14,
   "metadata": {
    "collapsed": false
   },
   "outputs": [
    {
     "name": "stdout",
     "output_type": "stream",
     "text": [
      "1\n",
      "0\n"
     ]
    }
   ],
   "source": [
    "x = 5\n",
    "print(x % 2)\n",
    "x = 6\n",
    "print(x % 2)"
   ]
  },
  {
   "cell_type": "markdown",
   "metadata": {
    "collapsed": false
   },
   "source": [
    "### Example 2\n",
    "Suppose we have 1234 pennies in the piggy-bank. How much do we have in pounds and pence? First we divide by 100 to get the while number of pounds:"
   ]
  },
  {
   "cell_type": "code",
   "execution_count": 15,
   "metadata": {
    "collapsed": false
   },
   "outputs": [
    {
     "name": "stdout",
     "output_type": "stream",
     "text": [
      "Pounds: 12\n"
     ]
    }
   ],
   "source": [
    "num_pennies = 1234\n",
    "pounds = num_pennies // 100\n",
    "print(\"Pounds:\", pounds)"
   ]
  },
  {
   "cell_type": "markdown",
   "metadata": {
    "collapsed": false
   },
   "source": [
    "Next we use the `%` operator to find the number of pence:"
   ]
  },
  {
   "cell_type": "code",
   "execution_count": 16,
   "metadata": {
    "collapsed": false
   },
   "outputs": [
    {
     "name": "stdout",
     "output_type": "stream",
     "text": [
      "Pence: 34\n"
     ]
    }
   ],
   "source": [
    "pence = num_pennies % 100\n",
    "print(\"Pence:\", pence)"
   ]
  },
  {
   "cell_type": "markdown",
   "metadata": {
    "collapsed": false
   },
   "source": [
    "## Python Operators\n",
    "\n",
    "| Operator | Symbol |\n",
    "|---|---|\n",
    "| Addition | `+` |\n",
    "| Subtraction | `-` |\n",
    "| Multiplication | `*` |\n",
    "| Division | `/` |\n",
    "| Power | `**` |\n",
    "| Modulo | `%` |\n",
    "| Floor division | ``//`` |"
   ]
  },
  {
   "cell_type": "markdown",
   "metadata": {
    "collapsed": false
   },
   "source": [
    "## `If` statement\n",
    "The specific heat capacity of water depends on whether it is in a solid, liquid or gaseous state.\n",
    "\n",
    "|State|Specific heat capacity (kJ/kgK)|\n",
    "|---|---|\n",
    "|Solid|2.108|\n",
    "|Liquid|4.187|\n",
    "|Gas|1.996|\n",
    "\n",
    "Let's write code which, given the temperature of a water sample, sets the value of the variable `shc` to the appropriate value (of course, we need to know the melting and boiling points of water!)"
   ]
  },
  {
   "cell_type": "code",
   "execution_count": 17,
   "metadata": {
    "collapsed": false
   },
   "outputs": [
    {
     "name": "stdout",
     "output_type": "stream",
     "text": [
      "Specific heat capacity: 4.187 kJ/kgK\n"
     ]
    }
   ],
   "source": [
    "temp = 90 # temperature of water sample\n",
    "\n",
    "if temp > 100:\n",
    "    shc = 1.996\n",
    "elif temp > 0:\n",
    "    shc = 4.187\n",
    "else:\n",
    "    shc = 2.108\n",
    "    \n",
    "print(\"Specific heat capacity:\", shc, \"kJ/kgK\")"
   ]
  },
  {
   "cell_type": "markdown",
   "metadata": {
    "collapsed": false
   },
   "source": [
    "The `if` statement evaluates the expression `temp > 100` and if it is true, executes the indented code directly underneath, then skips to the next statement after the `if-else` block. If it is not true, execution moves to the `elif` statement. If the expression `temp > 0` is true, the indented code beneath it is executed  and execution skips to the next statement after the `if-else` block. Finally, if neither expression is true, the indent code block below the `else` statement is executed.\n",
    "\n",
    ":::{note}\n",
    "**`If` statement**\n",
    "- Exactly one of the indented code blocks will be executed.\n",
    "- Use the `tab` key to indent code by exactly four spaces.\n",
    "- The `if`, `elif` and `else` statements must be followed by a colon (`:`).\n",
    "- Note the unusual keyword `elif` (rather than `elseif`).\n",
    "- The `elif` and `else` statements are optional.\n",
    ":::\n",
    "\n",
    ":::{warning}\n",
    "**Assignment vs Equality**  \n",
    "\n",
    "`=` is the **assignment** operator. It assigns the value on the right to the variable on the left:\n",
    "```\n",
    "x = 6 + 7 # sets x to the value 13\n",
    "```\n",
    "\n",
    "`==` is the **equality** operator. It evaluates to `True` if the expression on the left is equal to the expression on the right.\n",
    "```\n",
    "x == 13 # returns `True`\n",
    "```\n",
    "\n",
    "The condition in an `if` statement should always use `==`. This is a common mistake:\n",
    "\n",
    "```\n",
    "if x = 13: # this is a mistake. Be careful!\n",
    "    print(\"yes\")\n",
    "```\n",
    ":::"
   ]
  },
  {
   "cell_type": "markdown",
   "metadata": {
    "collapsed": false
   },
   "source": [
    "### Example\n",
    "\n",
    "The following example checks if the number `x` is divisible by 2, and prints an appropriate message.\n",
    "\n",
    "Note that we use the operator `==` to check for equality."
   ]
  },
  {
   "cell_type": "code",
   "execution_count": 18,
   "metadata": {
    "collapsed": false
   },
   "outputs": [
    {
     "name": "stdout",
     "output_type": "stream",
     "text": [
      "53783 is odd\n"
     ]
    }
   ],
   "source": [
    "x = 53783\n",
    "\n",
    "if x % 2 == 0:\n",
    "    print(x, \"is even\")\n",
    "else:\n",
    "    print(x, \"is odd\")"
   ]
  }
 ],
 "metadata": {
  "kernelspec": {
   "display_name": "Python 3 (system-wide)",
   "language": "python",
   "metadata": {
    "cocalc": {
     "description": "Python 3 programming language",
     "priority": 100,
     "url": "https://www.python.org/"
    }
   },
   "name": "python3",
   "resource_dir": "/ext/jupyter/kernels/python3"
  },
  "language_info": {
   "codemirror_mode": {
    "name": "ipython",
    "version": 3
   },
   "file_extension": ".py",
   "mimetype": "text/x-python",
   "name": "python",
   "nbconvert_exporter": "python",
   "pygments_lexer": "ipython3",
   "version": "3.8.10"
  }
 },
 "nbformat": 4,
 "nbformat_minor": 4
}