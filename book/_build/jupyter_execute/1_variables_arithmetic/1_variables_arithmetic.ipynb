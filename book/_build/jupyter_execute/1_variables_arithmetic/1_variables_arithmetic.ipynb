{
 "cells": [
  {
   "cell_type": "markdown",
   "metadata": {
    "collapsed": false
   },
   "source": [
    "# Introduction to Python\n",
    "\n",
    "## Printing\n",
    "\n",
    "In this section, we introduce the first Python function in detail."
   ]
  },
  {
   "cell_type": "code",
   "execution_count": 1,
   "metadata": {
    "collapsed": false
   },
   "outputs": [
    {
     "name": "stdout",
     "output_type": "stream",
     "text": [
      "My name is Pete :-)\n"
     ]
    }
   ],
   "source": [
    "# My first program\n",
    "print(\"My name is Pete :-)\")"
   ]
  },
  {
   "cell_type": "markdown",
   "metadata": {
    "collapsed": false
   },
   "source": [
    "The first line\n",
    "```\n",
    "# My first program\n",
    "```  \n",
    "is a comment. It begins with the `#` character and will be ignored by the Python interpreter.  \n",
    "\n",
    "The second line\n",
    "```\n",
    "print(\"My name is Pete :-)\")\n",
    "```\n",
    "instructs Python to display a line of text. We call the function `print` and pass it the text to be displayed.  \n",
    "\n",
    "A sequence of characters enclosed in quotation marks  \n",
    "```\n",
    "\"My name is Pete :-)\"\n",
    "```\n",
    "is called a **string**.\n",
    "\n",
    "The print statement can also print numbers. The following example evaluates `3 + 4` and prints the result:"
   ]
  },
  {
   "cell_type": "code",
   "execution_count": 2,
   "metadata": {
    "collapsed": false,
    "scrolled": true
   },
   "outputs": [
    {
     "name": "stdout",
     "output_type": "stream",
     "text": [
      "7\n"
     ]
    }
   ],
   "source": [
    "print(3 + 4)"
   ]
  },
  {
   "cell_type": "markdown",
   "metadata": {
    "collapsed": false
   },
   "source": [
    "The print statement can print multiple values. Separate each value by a comma:"
   ]
  },
  {
   "cell_type": "code",
   "execution_count": 3,
   "metadata": {
    "collapsed": false
   },
   "outputs": [
    {
     "name": "stdout",
     "output_type": "stream",
     "text": [
      "3 + 4 = 7 :-)\n"
     ]
    }
   ],
   "source": [
    "print(\"3 + 4 =\", 3 + 4, \":-)\")"
   ]
  },
  {
   "cell_type": "markdown",
   "metadata": {
    "collapsed": false
   },
   "source": [
    "Notice that Python inserts a space between each value.\n",
    "\n",
    "The `print` function starts a new line after each statement. If no arguments are passed to the function, it prints a blank line. "
   ]
  },
  {
   "cell_type": "code",
   "execution_count": 4,
   "metadata": {
    "collapsed": false
   },
   "outputs": [
    {
     "name": "stdout",
     "output_type": "stream",
     "text": [
      "***\n",
      "\n",
      "***\n"
     ]
    }
   ],
   "source": [
    "print(\"***\")\n",
    "print()\n",
    "print(\"***\")"
   ]
  },
  {
   "cell_type": "markdown",
   "metadata": {
    "collapsed": false
   },
   "source": [
    "## Errors\n",
    "\n",
    "Python expects code to have a very specific format. For example, every open bracket '`(`' must have a matching closing bracket '`)`'. If there is an error in the code, python will generate an **error message**."
   ]
  },
  {
   "cell_type": "code",
   "execution_count": 5,
   "metadata": {
    "collapsed": false
   },
   "outputs": [
    {
     "ename": "SyntaxError",
     "evalue": "unexpected EOF while parsing (2048779763.py, line 1)",
     "output_type": "error",
     "traceback": [
      "\u001b[0;36m  File \u001b[0;32m\"/tmp/ipykernel_455/2048779763.py\"\u001b[0;36m, line \u001b[0;32m1\u001b[0m\n\u001b[0;31m    print(\"***\"\u001b[0m\n\u001b[0m               ^\u001b[0m\n\u001b[0;31mSyntaxError\u001b[0m\u001b[0;31m:\u001b[0m unexpected EOF while parsing\n"
     ]
    }
   ],
   "source": [
    "print(\"***\""
   ]
  },
  {
   "cell_type": "markdown",
   "metadata": {
    "collapsed": false
   },
   "source": [
    "The error message tells us that the error is on `line 1` and that the type of error is `SyntaxError`.\n",
    "\n",
    "This information can be very useful, especially in longer programs."
   ]
  },
  {
   "cell_type": "code",
   "execution_count": 13,
   "metadata": {
    "collapsed": false
   },
   "outputs": [
    {
     "ename": "SyntaxError",
     "evalue": "EOL while scanning string literal (<ipython-input-13-c77efdeb2804>, line 3)",
     "output_type": "error",
     "traceback": [
      "\u001b[0;36m  File \u001b[0;32m\"<ipython-input-13-c77efdeb2804>\"\u001b[0;36m, line \u001b[0;32m3\u001b[0m\n\u001b[0;31m    print(\"works)\u001b[0m\n\u001b[0m                 ^\u001b[0m\n\u001b[0;31mSyntaxError\u001b[0m\u001b[0;31m:\u001b[0m EOL while scanning string literal\n"
     ]
    }
   ],
   "source": [
    "print(\"This\")\n",
    "print(\"code\")\n",
    "print(\"works)\n",
    "print(\"perfectly!\")"
   ]
  },
  {
   "cell_type": "markdown",
   "metadata": {
    "collapsed": false
   },
   "source": [
    "The error is on `line 3`. To view line numbers change to command mode (press `Esc`) then press the `l` key. Now we can see that the error is on line 3 and we can fix it by putting in the missing quote symbol `\"`."
   ]
  },
  {
   "cell_type": "markdown",
   "metadata": {
    "collapsed": false
   },
   "source": [
    "### Example\n",
    "\n",
    "A car is travelling at 15 metres per second. Is it exceeding the speed limit of 30 miles per hour?\n",
    "\n",
    "To solve this problem, first we define variables to store the speed of car in m/s and the speed limit in mph:"
   ]
  },
  {
   "cell_type": "code",
   "execution_count": 4,
   "metadata": {
    "collapsed": false
   },
   "outputs": [],
   "source": [
    "car_speed_ms = 15\n",
    "speed_limit_mph = 30"
   ]
  },
  {
   "cell_type": "markdown",
   "metadata": {
    "collapsed": false
   },
   "source": [
    "Next, we need to convert the car speed into mph and store it in a new variable. We multiply by 3600 (seconds in an hour) then divide by 1609.34 (metres in a mile)."
   ]
  },
  {
   "cell_type": "code",
   "execution_count": 5,
   "metadata": {
    "collapsed": false
   },
   "outputs": [
    {
     "name": "stdout",
     "output_type": "stream",
     "text": [
      "33.55412777908957\n"
     ]
    }
   ],
   "source": [
    "car_speed_mph = car_speed_ms * 3600 / 1609.34\n",
    "print(car_speed_mph)"
   ]
  },
  {
   "cell_type": "markdown",
   "metadata": {
    "collapsed": false
   },
   "source": [
    "By printing the result, we can see that the car is exceeding the speed limit. But let's get Python to do the check, and print 'Slow down, Nigel!' if the car is driving too fast."
   ]
  },
  {
   "cell_type": "code",
   "execution_count": 6,
   "metadata": {
    "collapsed": false
   },
   "outputs": [
    {
     "name": "stdout",
     "output_type": "stream",
     "text": [
      "Slow down, Nigel!\n"
     ]
    }
   ],
   "source": [
    "message = \"Slow down, Nigel!\"\n",
    "if car_speed_mph > speed_limit_mph:\n",
    "    print(message)"
   ]
  },
  {
   "cell_type": "markdown",
   "metadata": {
    "collapsed": false
   },
   "source": [
    "---\n",
    "**Exercise**  \n",
    "Check if a car travelling at 13 m/s is exceeding the speed limit by changing the value of `car_speed_ms` and re-running the code.\n",
    "\n",
    "---"
   ]
  },
  {
   "cell_type": "markdown",
   "metadata": {
    "collapsed": false
   },
   "source": [
    "## Variables\n",
    "\n",
    "A **variable** is a named storage location in the computer's memory. We store a value in a variable so that we can use it later in our computations.\n",
    "\n",
    "We use **assignment** to set the value of a variable:"
   ]
  },
  {
   "cell_type": "code",
   "execution_count": 4,
   "metadata": {
    "collapsed": false
   },
   "outputs": [
    {
     "name": "stdout",
     "output_type": "stream",
     "text": [
      "35\n"
     ]
    }
   ],
   "source": [
    "speed = 35 # assign the value 35 to a variable called speed\n",
    "print(speed)"
   ]
  },
  {
   "cell_type": "markdown",
   "metadata": {
    "collapsed": false
   },
   "source": [
    "We can assign a new value to an existing variable:"
   ]
  },
  {
   "cell_type": "code",
   "execution_count": 5,
   "metadata": {
    "collapsed": false
   },
   "outputs": [
    {
     "name": "stdout",
     "output_type": "stream",
     "text": [
      "40\n"
     ]
    }
   ],
   "source": [
    "speed = 40 # The new value replaces the old value\n",
    "print(speed)"
   ]
  },
  {
   "cell_type": "markdown",
   "metadata": {
    "collapsed": false
   },
   "source": [
    "Assignment is not the same as equality. We can have the same variable on both sides of the equals sign:"
   ]
  },
  {
   "cell_type": "code",
   "execution_count": 6,
   "metadata": {
    "collapsed": false
   },
   "outputs": [
    {
     "name": "stdout",
     "output_type": "stream",
     "text": [
      "42\n"
     ]
    }
   ],
   "source": [
    "speed = speed + 2 # Calculcate speed + 2 then assign the result to variable 'speed'\n",
    "print(speed)"
   ]
  },
  {
   "cell_type": "markdown",
   "metadata": {
    "collapsed": false
   },
   "source": [
    "This is a legal statement because Python first evaluates the expression on the right of the equals sign (`speed + 2`) and *then* places the result into the variable on the left."
   ]
  },
  {
   "cell_type": "markdown",
   "metadata": {
    "collapsed": false
   },
   "source": [
    "---\n",
    "**VARIABLE NAMING RULES**  \n",
    "- A variable name can only contain alpha-numeric characters and underscores (`A-Z`, `a-z`, `0-9`, and `_`)\n",
    "- A variable name cannot start with a number\n",
    "- Variable names are case-sensitive (`age`, `Age` and `AGE` are three different variables)\n",
    "---\n",
    "\n",
    "---\n",
    "**BEWARE!**  \n",
    "\n",
    "Beware of accidentally renaming Python keywords. The following is correct Python but a very bad idea because it renames the `print` function, which will result in some very weird errors!\n",
    "\n",
    "```\n",
    "# DON'T DO THIS!\n",
    "print = 5\n",
    "```\n",
    "\n",
    "---\n"
   ]
  },
  {
   "cell_type": "markdown",
   "metadata": {
    "collapsed": false
   },
   "source": [
    "## Strings\n",
    "\n",
    "A **string** is a sequence of characters. Use single or double quote characters to delimit a string."
   ]
  },
  {
   "cell_type": "code",
   "execution_count": 8,
   "metadata": {
    "collapsed": false
   },
   "outputs": [
    {
     "name": "stdout",
     "output_type": "stream",
     "text": [
      "Don't do it!\n"
     ]
    }
   ],
   "source": [
    "message = \"Don't do it!\"\n",
    "print(message)"
   ]
  },
  {
   "cell_type": "markdown",
   "metadata": {
    "collapsed": false
   },
   "source": [
    "## Number Types\n",
    "\n",
    "Every Python variable has a **data type** as well as a value. The type determines what operations can be performed on the variable and how it is stored in the computer's memory. Python supports a number of primitive data types including numbers, strings, lists and files and in particular there are two number types: **integers** and **floating point numbers**. When we specify a number in code it is important to understand which type we are creating:\n",
    "\n",
    "**NUMBER TYPES**\n",
    "|Number|Type|Description|\n",
    "|---|---|---|\n",
    "|`5`|`int`|A whole number|\n",
    "|`-5`|`int`|A negative integer|\n",
    "|`0.5`|`float`|A number with decimal part|\n",
    "|`5.0`|`float`|Including a decimal point always results in type `float`|\n",
    "|`5e6`|`float`|$5\\times10^6$|\n",
    "|`2.34e-5`|`float`|$2.34\\times10^{-5}$|"
   ]
  },
  {
   "cell_type": "markdown",
   "metadata": {
    "collapsed": false
   },
   "source": [
    "## Arithmetic Operators\n",
    "Python supports basic arithmetic operations addition, subtraction, multiplication and division using the symbols `+`, `-`, `*` and `/`. Brackets are used to indicate the order in which the parts of an expression are computed. For example, in the following expression, the division is performed first and then the addition."
   ]
  },
  {
   "cell_type": "code",
   "execution_count": 8,
   "metadata": {
    "collapsed": false,
    "scrolled": true
   },
   "outputs": [
    {
     "data": {
      "text/plain": [
       "5.0"
      ]
     },
     "execution_count": 8,
     "metadata": {},
     "output_type": "execute_result"
    }
   ],
   "source": [
    "3 + 4 / 2"
   ]
  },
  {
   "cell_type": "markdown",
   "metadata": {
    "collapsed": false
   },
   "source": [
    "In order to compute $\\frac{3 + 4}{2}$, use brackets:"
   ]
  },
  {
   "cell_type": "code",
   "execution_count": 9,
   "metadata": {
    "collapsed": false,
    "scrolled": true
   },
   "outputs": [
    {
     "data": {
      "text/plain": [
       "3.5"
      ]
     },
     "execution_count": 9,
     "metadata": {},
     "output_type": "execute_result"
    }
   ],
   "source": [
    "(3 + 4) / 2"
   ]
  },
  {
   "cell_type": "markdown",
   "metadata": {
    "collapsed": false
   },
   "source": [
    "In order to calculate powers, use the `**` operator. For example, the following calculates the $8^3$:"
   ]
  },
  {
   "cell_type": "code",
   "execution_count": 10,
   "metadata": {
    "collapsed": false
   },
   "outputs": [
    {
     "data": {
      "text/plain": [
       "512"
      ]
     },
     "execution_count": 10,
     "metadata": {},
     "output_type": "execute_result"
    }
   ],
   "source": [
    "8 ** 3"
   ]
  },
  {
   "cell_type": "markdown",
   "metadata": {
    "collapsed": false
   },
   "source": [
    "## Modulo Arithmetic\n",
    "\n",
    "Using the `/` operator results in a float-point value:"
   ]
  },
  {
   "cell_type": "code",
   "execution_count": 11,
   "metadata": {
    "collapsed": false
   },
   "outputs": [
    {
     "data": {
      "text/plain": [
       "2.25"
      ]
     },
     "execution_count": 11,
     "metadata": {},
     "output_type": "execute_result"
    }
   ],
   "source": [
    "9 / 4"
   ]
  },
  {
   "cell_type": "markdown",
   "metadata": {
    "collapsed": false
   },
   "source": [
    "On the other hand, the `//` operator performs **floor division**, computing the quotient and discarding the fractional part:"
   ]
  },
  {
   "cell_type": "code",
   "execution_count": 12,
   "metadata": {
    "collapsed": false
   },
   "outputs": [
    {
     "data": {
      "text/plain": [
       "2"
      ]
     },
     "execution_count": 12,
     "metadata": {},
     "output_type": "execute_result"
    }
   ],
   "source": [
    "9 // 4"
   ]
  },
  {
   "cell_type": "markdown",
   "metadata": {
    "collapsed": false
   },
   "source": [
    "To calculate the remainder after floor division, use the **modulus** operator `%`:"
   ]
  },
  {
   "cell_type": "code",
   "execution_count": 13,
   "metadata": {
    "collapsed": false
   },
   "outputs": [
    {
     "data": {
      "text/plain": [
       "1"
      ]
     },
     "execution_count": 13,
     "metadata": {},
     "output_type": "execute_result"
    }
   ],
   "source": [
    "9 % 4"
   ]
  },
  {
   "cell_type": "markdown",
   "metadata": {
    "collapsed": false
   },
   "source": [
    "### Example\n",
    "The `%` operator is useful to determine if a variable is divisible by a number. For example, if a number is even its remainder after dividing by 2 is zero; if it is odd its remainder after dividing by 2 is 1:"
   ]
  },
  {
   "cell_type": "code",
   "execution_count": 14,
   "metadata": {
    "collapsed": false
   },
   "outputs": [
    {
     "name": "stdout",
     "output_type": "stream",
     "text": [
      "1\n",
      "0\n"
     ]
    }
   ],
   "source": [
    "x = 5\n",
    "print(x % 2)\n",
    "x = 6\n",
    "print(x % 2)"
   ]
  },
  {
   "cell_type": "markdown",
   "metadata": {
    "collapsed": false
   },
   "source": [
    "### Example\n",
    "Suppose we have 1234 pennies in the piggy-bank. How much do we have in pounds and pence? First we divide by 100 to get the while number of pounds:"
   ]
  },
  {
   "cell_type": "code",
   "execution_count": 15,
   "metadata": {
    "collapsed": false
   },
   "outputs": [
    {
     "name": "stdout",
     "output_type": "stream",
     "text": [
      "Pounds: 12\n"
     ]
    }
   ],
   "source": [
    "num_pennies = 1234\n",
    "pounds = num_pennies // 100\n",
    "print(\"Pounds:\", pounds)"
   ]
  },
  {
   "cell_type": "markdown",
   "metadata": {
    "collapsed": false
   },
   "source": [
    "Next we use the `%` operator to find the number of pence:"
   ]
  },
  {
   "cell_type": "code",
   "execution_count": 16,
   "metadata": {
    "collapsed": false
   },
   "outputs": [
    {
     "name": "stdout",
     "output_type": "stream",
     "text": [
      "Pence: 34\n"
     ]
    }
   ],
   "source": [
    "pence = num_pennies % 100\n",
    "print(\"Pence:\", pence)"
   ]
  },
  {
   "cell_type": "markdown",
   "metadata": {
    "collapsed": false
   },
   "source": [
    "---\n",
    "**OPERATOR LIST**  \n",
    "\n",
    "| Operator | Symbol |\n",
    "|---|---|\n",
    "| Addition | `+` |\n",
    "| Subtraction | `-` |\n",
    "| Multiplication | `*` |\n",
    "| Division | `/` |\n",
    "| Power | `**` |\n",
    "| Modulo | `%` |\n",
    "| Floor division | ``//`` |\n",
    "\n",
    "---"
   ]
  },
  {
   "cell_type": "markdown",
   "metadata": {
    "collapsed": false
   },
   "source": [
    "## Decisions\n",
    "The specific heat capacity of water depends on whether it is in a solid, liquid or gaseous state.\n",
    "\n",
    "|State|Specific heat capacity (kJ/kgK)|\n",
    "|---|---|\n",
    "|Solid|2.108|\n",
    "|Liquid|4.187|\n",
    "|Gas|1.996|\n",
    "\n",
    "Let's write code which, given the temperature of a water sample, sets the value of the variable `shc` to the appropriate value (of course, we need to know the melting and boiling points of water!)"
   ]
  },
  {
   "cell_type": "code",
   "execution_count": 17,
   "metadata": {
    "collapsed": false
   },
   "outputs": [
    {
     "name": "stdout",
     "output_type": "stream",
     "text": [
      "Specific heat capacity: 4.187 kJ/kgK\n"
     ]
    }
   ],
   "source": [
    "temp = 90 # temperature of water sample\n",
    "\n",
    "if temp > 100:\n",
    "    shc = 1.996\n",
    "elif temp > 0:\n",
    "    shc = 4.187\n",
    "else:\n",
    "    shc = 2.108\n",
    "    \n",
    "print(\"Specific heat capacity:\", shc, \"kJ/kgK\")"
   ]
  },
  {
   "cell_type": "markdown",
   "metadata": {
    "collapsed": false
   },
   "source": [
    "The `if` statement evaluates the expression `temp > 100` and if it is true, executes the indented code directly underneath, then skips to the next statement after the `if-else` block. If it is not true, execution moves to the `elif` statement. If the expression `temp > 0` is true, the indented code beneath it is executed  and execution skips to the next statement after the `if-else` block. Finally, if neither expression is true, the indent code block below the `else` statement is executed."
   ]
  },
  {
   "cell_type": "markdown",
   "metadata": {
    "collapsed": false
   },
   "source": [
    "---\n",
    "**NOTES**  \n",
    "\n",
    "- Exactly one of the indented code blocks will be executed.\n",
    "- Use the `tab` key to indent code by exactly four spaces.\n",
    "- The `if`, `elif` and `else` statements must be followed by a colon (`:`).\n",
    "- Note the unusual keyword `elif` (rather than `elseif`).\n",
    "- The `elif` and `else` statements are optional.\n",
    "\n",
    "---"
   ]
  },
  {
   "cell_type": "markdown",
   "metadata": {
    "collapsed": false
   },
   "source": [
    "### Example\n",
    "\n",
    "The following example checks if the number `x` is divisible by 2, and prints an appropriate message.\n",
    "\n",
    "Note that we use the operator `==` to check for equality."
   ]
  },
  {
   "cell_type": "code",
   "execution_count": 18,
   "metadata": {
    "collapsed": false
   },
   "outputs": [
    {
     "name": "stdout",
     "output_type": "stream",
     "text": [
      "53783 is odd\n"
     ]
    }
   ],
   "source": [
    "x = 53783\n",
    "\n",
    "if x % 2 == 0:\n",
    "    print(x, \"is even\")\n",
    "else:\n",
    "    print(x, \"is odd\")"
   ]
  }
 ],
 "metadata": {
  "kernelspec": {
   "display_name": "Python 3 (system-wide)",
   "language": "python",
   "metadata": {
    "cocalc": {
     "description": "Python 3 programming language",
     "priority": 100,
     "url": "https://www.python.org/"
    }
   },
   "name": "python3",
   "resource_dir": "/ext/jupyter/kernels/python3"
  },
  "language_info": {
   "codemirror_mode": {
    "name": "ipython",
    "version": 3
   },
   "file_extension": ".py",
   "mimetype": "text/x-python",
   "name": "python",
   "nbconvert_exporter": "python",
   "pygments_lexer": "ipython3",
   "version": "3.8.10"
  }
 },
 "nbformat": 4,
 "nbformat_minor": 4
}