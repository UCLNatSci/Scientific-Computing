{
 "cells": [
  {
   "cell_type": "markdown",
   "metadata": {
    "collapsed": false
   },
   "source": [
    "# Lists and Plotting\n",
    "## Lists\n",
    "A `list` is a Python data type that stores a sequence of values. For example, suppose we have the following data representing five years' population data for a species:"
   ]
  },
  {
   "cell_type": "code",
   "execution_count": 1,
   "metadata": {
    "collapsed": false
   },
   "outputs": [
    {
     "name": "stdout",
     "output_type": "stream",
     "text": [
      "[12, 25, 54, 102, 206]\n"
     ]
    }
   ],
   "source": [
    "populations = [12, 25, 54, 102, 206]\n",
    "print(populations)"
   ]
  },
  {
   "cell_type": "markdown",
   "metadata": {
    "collapsed": false
   },
   "source": [
    "Each element in a list has an **index** which identifies its position. We can access a list element by following the variable name with square brackets and the index:"
   ]
  },
  {
   "cell_type": "code",
   "execution_count": 2,
   "metadata": {
    "collapsed": false
   },
   "outputs": [
    {
     "name": "stdout",
     "output_type": "stream",
     "text": [
      "Initial population: 12\n",
      "Population in year 3: 102\n"
     ]
    }
   ],
   "source": [
    "initial_pop = populations[0]\n",
    "year_3_pop = populations[3]\n",
    "\n",
    "print(\"Initial population:\", initial_pop)\n",
    "print(\"Population in year 3:\", year_3_pop)\n"
   ]
  },
  {
   "cell_type": "markdown",
   "metadata": {
    "collapsed": false
   },
   "source": [
    "Likewise, we can update individual list elements. Suppose we would like to change the value of the 3rd element:"
   ]
  },
  {
   "cell_type": "code",
   "execution_count": 3,
   "metadata": {
    "collapsed": false
   },
   "outputs": [
    {
     "name": "stdout",
     "output_type": "stream",
     "text": [
      "[12, 25, 54, 100, 206]\n"
     ]
    }
   ],
   "source": [
    "populations[3] = 100 # Assign the value 100 to element at index 3\n",
    "print(populations)"
   ]
  },
  {
   "cell_type": "markdown",
   "metadata": {
    "collapsed": false
   },
   "source": [
    "Any data type can be stored in a list, including strings:"
   ]
  },
  {
   "cell_type": "code",
   "execution_count": 4,
   "metadata": {
    "collapsed": false
   },
   "outputs": [
    {
     "name": "stdout",
     "output_type": "stream",
     "text": [
      "Sheffield\n"
     ]
    }
   ],
   "source": [
    "cities = [\"Manchester\", \"Liverpool\", \"Sheffield\", \"Stoke-on-Trent\"]\n",
    "x = cities[2]\n",
    "print(x)\n"
   ]
  },
  {
   "cell_type": "markdown",
   "metadata": {
    "collapsed": false
   },
   "source": [
    ":::{note} \n",
    "- Lists are indexed starting from `0`. If a list has `n` elements, then the last element is at index `n - 1`.\n",
    "- Square brackets are used for two distinct purposes: for list creation: `x = [1, 2, 4]`, and list element access: `x[2]`.\n",
    ":::"
   ]
  },
  {
   "cell_type": "markdown",
   "metadata": {
    "collapsed": false
   },
   "source": [
    "## Traversing Lists\n",
    "There are two ways of accessing all elements of a list. The first way is to use a `for` loop to loop over all index values. We use the Python function `len` to determine the number of elements in the list."
   ]
  },
  {
   "cell_type": "code",
   "execution_count": 5,
   "metadata": {
    "collapsed": false
   },
   "outputs": [
    {
     "name": "stdout",
     "output_type": "stream",
     "text": [
      "Year 0 population: 12\n",
      "Year 1 population: 25\n",
      "Year 2 population: 54\n",
      "Year 3 population: 100\n",
      "Year 4 population: 206\n"
     ]
    }
   ],
   "source": [
    "n = len(populations) # get the number of elements in the list\n",
    "for i in range(n): # loop over index values 0 to n - 1\n",
    "    pop = populations[i] # Access element at index i\n",
    "    print(\"Year\", i, \"population:\", pop)"
   ]
  },
  {
   "cell_type": "markdown",
   "metadata": {
    "collapsed": false
   },
   "source": [
    "If you don't need index values, you can loop over the individual elements of the list:"
   ]
  },
  {
   "cell_type": "code",
   "execution_count": 6,
   "metadata": {
    "collapsed": false
   },
   "outputs": [
    {
     "name": "stdout",
     "output_type": "stream",
     "text": [
      "Population: 12\n",
      "Population: 25\n",
      "Population: 54\n",
      "Population: 100\n",
      "Population: 206\n"
     ]
    }
   ],
   "source": [
    "for pop in populations: # loop over all elements of the list\n",
    "    print(\"Population:\", pop)"
   ]
  },
  {
   "cell_type": "markdown",
   "metadata": {
    "collapsed": false
   },
   "source": [
    "## Appending Elements to a List\n",
    "After a list is created, we can add items to it using the `append` method. Suppose that we have recorded the species population for the next year as `420`:"
   ]
  },
  {
   "cell_type": "code",
   "execution_count": 7,
   "metadata": {
    "collapsed": false
   },
   "outputs": [
    {
     "name": "stdout",
     "output_type": "stream",
     "text": [
      "[12, 25, 54, 100, 206, 420]\n"
     ]
    }
   ],
   "source": [
    "populations.append(420)\n",
    "print(populations)"
   ]
  },
  {
   "cell_type": "markdown",
   "metadata": {
    "collapsed": false
   },
   "source": [
    "A common pattern for list creation is to start with an empty list, then use a loop to append one element at a time. The following example creates a list of the first 10 square numbers."
   ]
  },
  {
   "cell_type": "code",
   "execution_count": 8,
   "metadata": {
    "collapsed": false
   },
   "outputs": [
    {
     "name": "stdout",
     "output_type": "stream",
     "text": [
      "[0, 1, 4, 9, 16, 25, 36, 49, 64, 81]\n"
     ]
    }
   ],
   "source": [
    "values = []\n",
    "for i in range(10):\n",
    "    values.append(i**2)\n",
    "print(values)"
   ]
  },
  {
   "cell_type": "markdown",
   "metadata": {
    "collapsed": false
   },
   "source": [
    "## Finding a List Element\n",
    "If you want to know the index of an element in a list, use the `index` method. `string.index(s)` returns the first element equal to argument `s`:"
   ]
  },
  {
   "cell_type": "code",
   "execution_count": 9,
   "metadata": {
    "collapsed": false
   },
   "outputs": [
    {
     "name": "stdout",
     "output_type": "stream",
     "text": [
      "2\n"
     ]
    }
   ],
   "source": [
    "values = [\"ABC\", \"DEF\", \"GHI\", \"JKL\"]\n",
    "i = values.index(\"GHI\") # Find the index of the first element equal to \"GHI\"\n",
    "print(i)"
   ]
  },
  {
   "cell_type": "markdown",
   "metadata": {
    "collapsed": false
   },
   "source": [
    "## Plotting using Matplotlib\n",
    "\n",
    "Python does not include any in-built graph plotting capability. In order to plot graphs, we have to **import** a Python **package** called `matplotlib`. A package is a library of code which we can use to extend the capabilities of core Python, and is composed of individual code files called **modules**. Use the `import` statement to import the module `matplotlib.pyplot`:"
   ]
  },
  {
   "cell_type": "code",
   "execution_count": 10,
   "metadata": {
    "collapsed": false
   },
   "outputs": [],
   "source": [
    "import matplotlib.pyplot as plt"
   ]
  },
  {
   "cell_type": "markdown",
   "metadata": {
    "collapsed": false
   },
   "source": [
    ":::{note}\n",
    "- The Python statement `import a` causes the Python package (or module) `a` to be imported. Any function defined in `a` is then available by typing '`a.`' followed by the function name.\n",
    "- `import a as b` gives `a` an alias (nickname) `b`, so that functions are available by typing '`b.`' followed by the function name. This is useful when `a` has a long name (such as `matplotlib.pyplot`).\n",
    "- Python includes built-in modules such as `sys` (system functions) and `os` (operating system functions) which can be imported in the same way.\n",
    "- Other packages are not part of Python itself but are pre-installed as part of a Python distribution (such as Anaconda or Cocalc). In this course we will use `matplotlib` and `numpy`.\n",
    "- There are many third-party modules available, which typically need to be downloaded and installed. Examples include `biopython` (for bioinformatics) and `pandas` (for data analysis).\n",
    ":::\n",
    "\n",
    "Suppose we have collected the following data which we would like to plot on a line graph.\n",
    "\n",
    "| Time (s)     | 0.1 | 0.2 | 0.3 | 0.4 | 0.5 | 0.6 | 0.7 |\n",
    "|--------------|-----|-----|-----|-----|-----|-----|-----|\n",
    "| Distance (m) | 2.5 | 2.6 | 3.4 | 4.1 | 4.5 | 5.1 | 5.2 |\n",
    "\n",
    "First, we create lists to store the data for each of the x-axis and y-axis:\n"
   ]
  },
  {
   "cell_type": "code",
   "execution_count": 11,
   "metadata": {
    "collapsed": false
   },
   "outputs": [],
   "source": [
    "time = [0.1, 0.2, 0.3, 0.4, 0.5, 0.6, 0.7]\n",
    "dis = [2.5, 2.6, 3.4, 4.1, 4.5, 5.1, 5.2]"
   ]
  },
  {
   "cell_type": "markdown",
   "metadata": {
    "collapsed": false
   },
   "source": [
    "Then:\n",
    "- create a figure using the function `plt.figure`, passing in the dimensions in inches.\n",
    "- plot a line graph using `plt.plot`, passing in the two lists\n",
    "- add axis labels and a title using `plt.xlabel`, `plt.ylabel` and `plt.title`"
   ]
  },
  {
   "cell_type": "code",
   "execution_count": 12,
   "metadata": {
    "collapsed": false
   },
   "outputs": [
    {
     "ename": "NameError",
     "evalue": "name 'y' is not defined",
     "output_type": "error",
     "traceback": [
      "\u001b[0;31m---------------------------------------------------------------------------\u001b[0m",
      "\u001b[0;31mNameError\u001b[0m                                 Traceback (most recent call last)",
      "\u001b[0;32m/tmp/ipykernel_589/1475974717.py\u001b[0m in \u001b[0;36m<module>\u001b[0;34m\u001b[0m\n\u001b[1;32m      1\u001b[0m \u001b[0mplt\u001b[0m\u001b[0;34m.\u001b[0m\u001b[0mfigure\u001b[0m\u001b[0;34m(\u001b[0m\u001b[0mfigsize\u001b[0m\u001b[0;34m=\u001b[0m\u001b[0;34m(\u001b[0m\u001b[0;36m4\u001b[0m\u001b[0;34m,\u001b[0m\u001b[0;36m4\u001b[0m\u001b[0;34m)\u001b[0m\u001b[0;34m)\u001b[0m \u001b[0;31m# create figure of size 4 by 4 inches\u001b[0m\u001b[0;34m\u001b[0m\u001b[0;34m\u001b[0m\u001b[0m\n\u001b[0;32m----> 2\u001b[0;31m \u001b[0mplt\u001b[0m\u001b[0;34m.\u001b[0m\u001b[0mplot\u001b[0m\u001b[0;34m(\u001b[0m\u001b[0mx\u001b[0m\u001b[0;34m,\u001b[0m \u001b[0my\u001b[0m\u001b[0;34m)\u001b[0m \u001b[0;31m# plot a line graph\u001b[0m\u001b[0;34m\u001b[0m\u001b[0;34m\u001b[0m\u001b[0m\n\u001b[0m\u001b[1;32m      3\u001b[0m \u001b[0mplt\u001b[0m\u001b[0;34m.\u001b[0m\u001b[0mxlabel\u001b[0m\u001b[0;34m(\u001b[0m\u001b[0;34m\"Time (s)\"\u001b[0m\u001b[0;34m)\u001b[0m \u001b[0;31m# add an x-axis label\u001b[0m\u001b[0;34m\u001b[0m\u001b[0;34m\u001b[0m\u001b[0m\n\u001b[1;32m      4\u001b[0m \u001b[0mplt\u001b[0m\u001b[0;34m.\u001b[0m\u001b[0mylabel\u001b[0m\u001b[0;34m(\u001b[0m\u001b[0;34m\"Distance (m)\"\u001b[0m\u001b[0;34m)\u001b[0m \u001b[0;31m# add a y-axis label\u001b[0m\u001b[0;34m\u001b[0m\u001b[0;34m\u001b[0m\u001b[0m\n\u001b[1;32m      5\u001b[0m \u001b[0mplt\u001b[0m\u001b[0;34m.\u001b[0m\u001b[0mtitle\u001b[0m\u001b[0;34m(\u001b[0m\u001b[0;34m\"Particle Position\"\u001b[0m\u001b[0;34m)\u001b[0m \u001b[0;31m# add a figure title\u001b[0m\u001b[0;34m\u001b[0m\u001b[0;34m\u001b[0m\u001b[0m\n",
      "\u001b[0;31mNameError\u001b[0m: name 'y' is not defined"
     ]
    },
    {
     "data": {
      "text/plain": [
       "<Figure size 288x288 with 0 Axes>"
      ]
     },
     "metadata": {},
     "output_type": "display_data"
    }
   ],
   "source": [
    "plt.figure(figsize=(4,4)) # create figure of size 4 by 4 inches\n",
    "plt.plot(x, y) # plot a line graph\n",
    "plt.xlabel(\"Time (s)\") # add an x-axis label\n",
    "plt.ylabel(\"Distance (m)\") # add a y-axis label\n",
    "plt.title(\"Particle Position\") # add a figure title"
   ]
  }
 ],
 "metadata": {
  "kernelspec": {
   "display_name": "Python 3 (system-wide)",
   "language": "python",
   "metadata": {
    "cocalc": {
     "description": "Python 3 programming language",
     "priority": 100,
     "url": "https://www.python.org/"
    }
   },
   "name": "python3",
   "resource_dir": "/ext/jupyter/kernels/python3"
  },
  "language_info": {
   "codemirror_mode": {
    "name": "ipython",
    "version": 3
   },
   "file_extension": ".py",
   "mimetype": "text/x-python",
   "name": "python",
   "nbconvert_exporter": "python",
   "pygments_lexer": "ipython3",
   "version": "3.8.10"
  }
 },
 "nbformat": 4,
 "nbformat_minor": 4
}