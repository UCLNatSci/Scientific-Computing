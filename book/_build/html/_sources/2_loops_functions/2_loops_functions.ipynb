{
 "cells": [
  {
   "cell_type": "markdown",
   "metadata": {
    "collapsed": false
   },
   "source": [
    "# Functions and Loops\n",
    "\n",
    "```{admonition} What you'll learn\n",
    ":class: tip\n",
    " - How to split up a problem into smaller parts using functions\n",
    " - How to define and call functions\n",
    " - How to test functions\n",
    " - How to repeat code using `while` and `for` loops\n",
    " - Relational operators\n",
    " - Boolean variables\n",
    "```\n",
    "\n",
    "## Functions\n",
    "\n",
    "A function is a group of related statements that performs a specific task. With the help of functions, we can break our program into smaller and modular chunks. So, as we start to write larger programs, functions help us to make it more organized and manageable.\n",
    "\n",
    "Furthermore, with the help of function, we can avoid repetition and make our code reusable. Let's start with a very simple example.\n",
    "\n",
    "The following code sets the variable `name1` then prints a simple greeting message:"
   ]
  },
  {
   "cell_type": "code",
   "execution_count": 2,
   "metadata": {
    "collapsed": false
   },
   "outputs": [
    {
     "name": "stdout",
     "output_type": "stream",
     "text": [
      "Hello Prof Thomas\n",
      "Nice to meet you.\n"
     ]
    }
   ],
   "source": [
    "name1 = \"Prof Thomas\"\n",
    "print(\"Hello\",  name1)\n",
    "print(\"Nice to meet you.\")"
   ]
  },
  {
   "cell_type": "markdown",
   "metadata": {
    "collapsed": false
   },
   "source": [
    "Suppose we would like to print similar greeting messages for each of the variables `name1`, `name2` and `name3`. It is of course possible to do this by simply repeating the code three times:"
   ]
  },
  {
   "cell_type": "code",
   "execution_count": 4,
   "metadata": {
    "collapsed": false
   },
   "outputs": [
    {
     "name": "stdout",
     "output_type": "stream",
     "text": [
      "Hello Prof Thomas\n",
      "Nice to meet you.\n",
      "Hello Mr Bentham\n",
      "Nice to meet you.\n",
      "Hello Prof Lonsdale\n",
      "Nice to meet you.\n"
     ]
    }
   ],
   "source": [
    "name1 = \"Prof Thomas\"\n",
    "name2 = \"Mr Bentham\"\n",
    "name3 = \"Prof Lonsdale\"\n",
    "\n",
    "print(\"Hello\",  name1)\n",
    "print(\"Nice to meet you.\")\n",
    "print(\"Hello\",  name2)\n",
    "print(\"Nice to meet you.\")\n",
    "print(\"Hello\",  name3)\n",
    "print(\"Nice to meet you.\")"
   ]
  },
  {
   "cell_type": "markdown",
   "metadata": {
    "collapsed": false
   },
   "source": [
    "However, instead of repeating the identical code three times, we can write a Python **function**, a named sequence of instructions. In the code below, we define a function called `greet`. We then call the function three times, passing in each of our three variables `name1`, `name2` and `name3`."
   ]
  },
  {
   "cell_type": "code",
   "execution_count": 5,
   "metadata": {
    "collapsed": false
   },
   "outputs": [
    {
     "name": "stdout",
     "output_type": "stream",
     "text": [
      "Hello  Prof Thomas\n",
      "Nice to meet you.\n",
      "Hello  Mr Bentham\n",
      "Nice to meet you.\n",
      "Hello  Prof Lonsdale\n",
      "Nice to meet you.\n"
     ]
    }
   ],
   "source": [
    "def greet(name):\n",
    "    print(\"Hello \", name)\n",
    "    print(\"Nice to meet you.\")\n",
    "    \n",
    "greet(\"Prof Thomas\")\n",
    "greet(\"Mr Bentham\")\n",
    "greet(\"Prof Lonsdale\")"
   ]
  },
  {
   "cell_type": "markdown",
   "metadata": {
    "collapsed": false
   },
   "source": [
    "Let's examine what the Python interpreter does when it executes the above code.\n",
    "\n",
    "- First, it reads the line `def greet(name):`. When Python reaches this line, it doesn't actually execute any of the code within this block. Instead, it skips to the next line of code below the function, in this case the line `greet(\"Prof Thomas\")`.\n",
    "\n",
    "- At this point, it recognises that `greet` is a previously defined function. Execution now moves to first line of the `greet` function, with the parameter variable `name` set to `\"Prof Thomas\"`.\n",
    "\n",
    "- Python executes each line of code in the function in order.\n",
    "\n",
    "- Once the interpreter reaches the final line of code in the function, execution returns to the main body of code and the line `greet(\"Mr Bentham\")` is executed. Execution moves to the `greet` function with `name = \"Mr Bentham\"`, and execution continues as described above."
   ]
  },
  {
   "cell_type": "markdown",
   "metadata": {
    "collapsed": false
   },
   "source": [
    "## Defining Functions\n",
    "\n",
    "In this section, we will implement a function with a given specification, and call it with some test inputs.  \n",
    "\n",
    "Suppose we want to define a function which computes the perimeter of a rectangle with given length and width. We need to do the following:\n",
    "\n",
    "1. Choose a name for the function (`calculate_perimeter`)\n",
    "2. Define a variable for each argument (`length` and `width`). These are called **parameter variables**\n",
    "3. Put these together with the keyword `def` and a colon (`:`)\n",
    "\n",
    "```\n",
    "def calculate_perimeter(length, width):\n",
    "```\n",
    "4. Specify the **body** of the function, which consists of statements which will run when the function is called. The perimeter of a rectangle is twice the length plus the width.\n",
    "5. Finally we use the `return` statement to return the result of the function.\n",
    "\n",
    "```\n",
    "def calculate_perimeter(length, width):\n",
    "    perimeter = 2 * (length + width)\n",
    "    return perimeter\n",
    "```\n",
    "\n",
    ":::{note}\n",
    "- The body of the function is indented by 4 spaces\n",
    "- Nothing appears to happen when we run this code on its own - because we haven't called the function yet\n",
    "- The `perimeter` variable, defined inside the function, is not accessible outside the function\n",
    "- The `return` keyword is optional\n",
    ":::"
   ]
  },
  {
   "cell_type": "markdown",
   "metadata": {
    "collapsed": false
   },
   "source": [
    "## Calling Functions\n",
    "\n",
    "If you run the preceding code nothing happens. In order to test the function, we need to write some statements that call the function and print the result."
   ]
  },
  {
   "cell_type": "code",
   "execution_count": 6,
   "metadata": {
    "collapsed": false
   },
   "outputs": [
    {
     "name": "stdout",
     "output_type": "stream",
     "text": [
      "Rectangle 1 perimeter: 12\n",
      "Rectangle 2 perimeter: 40\n"
     ]
    }
   ],
   "source": [
    "def calculate_perimeter(length, width):\n",
    "    perimeter = 2 * (length + width)\n",
    "    return perimeter\n",
    "    \n",
    "\n",
    "x1 = calculate_perimeter(2, 4)\n",
    "x2 = calculate_perimeter(10, 10)\n",
    "\n",
    "print(\"Rectangle 1 perimeter:\", x1)\n",
    "print(\"Rectangle 2 perimeter:\", x2)"
   ]
  },
  {
   "cell_type": "markdown",
   "metadata": {
    "collapsed": false
   },
   "source": [
    "Because the `calculate perimeter` function returns a number, we can use the function call in place of a numeric variable. For example, to print the total perimeter of two rectangles:"
   ]
  },
  {
   "cell_type": "code",
   "execution_count": 7,
   "metadata": {
    "collapsed": false
   },
   "outputs": [
    {
     "name": "stdout",
     "output_type": "stream",
     "text": [
      "Total perimeter of rectangles: 52\n"
     ]
    }
   ],
   "source": [
    "print(\"Total perimeter of rectangles:\", calculate_perimeter(2, 4) +  calculate_perimeter(10, 10))"
   ]
  },
  {
   "cell_type": "code",
   "execution_count": 0,
   "metadata": {
    "collapsed": false
   },
   "outputs": [
   ],
   "source": [
   ]
  },
  {
   "cell_type": "markdown",
   "metadata": {
    "collapsed": false
   },
   "source": [
    ":::{note}\n",
    "The function definition must precede any statements which call it\n",
    ":::\n",
    "\n",
    ":::{warning}\n",
    "The following function contains a common error: trying to modify an argument.\n",
    "```\n",
    "def add_four(x):\n",
    "    x = x + 4 # Has no effect outside the function.\n",
    "    return x\n",
    "\n",
    "x = 10\n",
    "add_four(x)  # Does not modify x.\n",
    "x = add_four(x)\n",
    "print(x)\n",
    "```\n",
    ":::"
   ]
  },
  {
   "cell_type": "markdown",
   "metadata": {
    "collapsed": false
   },
   "source": [
    "## Example: Splitting a problem into parts\n",
    "\n",
    "Consider following problem:\n",
    "\n",
    "Given a number `n` between 1 and 365, print the day of the week, given 1st January is a Monday.  \n",
    "\n",
    "We can split this into two problems:  \n",
    "1. Given `n` from 1 to 365, calculate a number between 0 and 6 identifying the day of the week\n",
    "2. Given a number between 0 and 6, determine the day of the week in text form (Monday, Tuesday, etc.)\n",
    "\n",
    "We can write two functions each of which performs one of these steps, then chain them together.  \n",
    "\n",
    "The first function, `get_number_of_day`, returns a number between 0 and 6 given a number `n` from 1 to 365:"
   ]
  },
  {
   "cell_type": "code",
   "execution_count": 9,
   "metadata": {
    "collapsed": false
   },
   "outputs": [
   ],
   "source": [
    "def get_number_of_day(n):\n",
    "    d = n % 7\n",
    "    return n"
   ]
  },
  {
   "cell_type": "markdown",
   "metadata": {
    "collapsed": false
   },
   "source": [
    "The second function, `get_day_of_week`, returns a string given a number between 0 and 6:"
   ]
  },
  {
   "cell_type": "code",
   "execution_count": 10,
   "metadata": {
    "collapsed": false
   },
   "outputs": [
   ],
   "source": [
    "def get_day_of_week(n):\n",
    "    week_days = [\"Monday\", \"Tuesday\", \"Wednesday\", \"Thursday\", \"Friday\", \"Saturday\", \"Sunday\"]\n",
    "    return week_days[n]"
   ]
  },
  {
   "cell_type": "markdown",
   "metadata": {
    "collapsed": false
   },
   "source": [
    "Finally, we write a function `get_day_of_week_from_number_of_year` which takes a number between 1 and 365 and prints the day of the week:"
   ]
  },
  {
   "cell_type": "code",
   "execution_count": 11,
   "metadata": {
    "collapsed": false
   },
   "outputs": [
   ],
   "source": [
    "def get_day_of_week_from_number_of_year(n):\n",
    "    d = get_number_of_day(n)\n",
    "    s = get_day_of_week(d)\n",
    "    return s"
   ]
  },
  {
   "cell_type": "markdown",
   "metadata": {
    "collapsed": false
   },
   "source": [
    "Now we can test it:"
   ]
  },
  {
   "cell_type": "code",
   "execution_count": 18,
   "metadata": {
    "collapsed": false
   },
   "outputs": [
    {
     "name": "stdout",
     "output_type": "stream",
     "text": [
      "Tuesday\n"
     ]
    }
   ],
   "source": [
    "day = get_day_of_week_from_number_of_year(1)\n",
    "print(day)"
   ]
  },
  {
   "cell_type": "markdown",
   "metadata": {
    "collapsed": false
   },
   "source": [
    "Wait! It didn't work: the answer should be `Monday`. Let's investigate. First, let's check the function `get_day_of_week`. Given the value 0, it should return `Monday`:"
   ]
  },
  {
   "cell_type": "code",
   "execution_count": 13,
   "metadata": {
    "collapsed": false
   },
   "outputs": [
    {
     "data": {
      "text/plain": [
       "'Monday'"
      ]
     },
     "execution_count": 13,
     "metadata": {
     },
     "output_type": "execute_result"
    }
   ],
   "source": [
    "get_day_of_week(0)"
   ]
  },
  {
   "cell_type": "markdown",
   "metadata": {
    "collapsed": false
   },
   "source": [
    "So that's working OK. Let's test `get_number_of_day`. Since the 1st day of the year is a Monday, `get_number_of_day(1)` should return 0:"
   ]
  },
  {
   "cell_type": "code",
   "execution_count": 14,
   "metadata": {
    "collapsed": false
   },
   "outputs": [
    {
     "data": {
      "text/plain": [
       "1"
      ]
     },
     "execution_count": 14,
     "metadata": {
     },
     "output_type": "execute_result"
    }
   ],
   "source": [
    "get_number_of_day(1)"
   ]
  },
  {
   "cell_type": "markdown",
   "metadata": {
    "collapsed": false
   },
   "source": [
    "Aha! We forgot to subtract 1 to change from 1-based indexing to 0-based indexing. In one of the practice exercises, you will fix the error.\n",
    "\n",
    "## Testing Functions\n",
    "\n",
    "By splitting the problem into small functions, we were able to test each part separately, and easily identify where the error was. This is one of the key benefits of using functions.\n",
    "\n",
    "A common techniques is called test-first development, where the tests are written *before* writing the function. \n",
    "\n",
    "```\n",
    "def highest_common_factor(a, b):\n",
    "    # replace this line with the function contents\n",
    "    pass\n",
    "    \n",
    "# should print 3\n",
    "print(highest_common_factor(6, 3))\n",
    "\n",
    "# should print 5\n",
    "print(highest_common_factor(5, 5))\n",
    "```\n"
   ]
  },
  {
   "cell_type": "markdown",
   "metadata": {
    "collapsed": false
   },
   "source": [
    "## Loops\n",
    "\n",
    "A **loop** is a sequence of instructions which is executed repeatedly until a goal is reached. We've already seen the `while` loop which repeats a code block while a condition is true.\n",
    "\n",
    "## `while` Loops\n",
    "\n",
    "In Python we use a `while` statement to repeat a sequence of statements while a specific condition is satisfied."
   ]
  },
  {
   "cell_type": "code",
   "execution_count": 1,
   "metadata": {
    "collapsed": false
   },
   "outputs": [
    {
     "name": "stdout",
     "output_type": "stream",
     "text": [
      "Number of years: 7\n"
     ]
    }
   ],
   "source": [
    "pop = 10 # initial population\n",
    "year = 0 # initial year\n",
    "while pop < 1000: # repeat the following statements while pop is less than 1000\n",
    "    year = year + 1 # update the year \n",
    "    pop = pop * 2 # update the population\n",
    "print(\"Number of years:\", year)"
   ]
  },
  {
   "cell_type": "markdown",
   "metadata": {
    "collapsed": false
   },
   "source": [
    ":::{note}\n",
    "- The `while` statement is terminated by a colon (`:`)\n",
    "- The `while` condition is `pop < 1000`\n",
    "- The indented lines below the `while` statement are executed repeatedly while the condition is true  \n",
    ":::\n",
    "\n",
    "## Relational Operators\n",
    "The less-than operator `<` is a **relational operator**. It compares two expressions and evaluates to `true` if the expression on the left is less than the expression on the right. Other relational operators include the equality operator `==` which evaluates to `true` if the expression on the left is equal to the expression on the right. Relational operators can be used in `if` statements or `while` loops.\n",
    "\n",
    "|Symbol|Operator|\n",
    "|---|---|\n",
    "|<|less than|\n",
    "|<=|less than or equal|\n",
    "|>|greater than|\n",
    "|>=|greater than or equal|\n",
    "|==|equals|\n",
    "|!=|does not equal|\n",
    "\n",
    ":::{warning}\n",
    "It is very easy to make a mistake by choosing the wrong operator. For example, if we replaced `pop < 1000` with `pop > 1000` in the above code, the `while` loop is never entered since the condition is false on the first iteration.\n",
    ":::\n",
    "\n",
    "## Boolean Variables\n",
    "\n",
    "We can assign the result of a relational operation to a variable. Such a variable has the value `True` or `False` and is called a **Boolean Variable**.\n"
   ]
  },
  {
   "cell_type": "code",
   "execution_count": 4,
   "metadata": {
    "collapsed": false
   },
   "outputs": [
    {
     "name": "stdout",
     "output_type": "stream",
     "text": [
      "5 is greater than 6 : False\n"
     ]
    }
   ],
   "source": [
    "x = 5\n",
    "y = 6\n",
    "z = x > y\n",
    "print(x, \"is greater than\", y, \":\",  z)"
   ]
  },
  {
   "cell_type": "markdown",
   "metadata": {
    "collapsed": false
   },
   "source": [
    "## `for` Loops\n",
    "\n",
    "A `for` loop is used to iterate over a sequence of elements. The simplest form of the `for` statement is to iterate over a range of integer values. For example, the following code will execute the indented statements once for each integer from 5 to 9:\n"
   ]
  },
  {
   "cell_type": "code",
   "execution_count": 6,
   "metadata": {
    "collapsed": false,
    "scrolled": true
   },
   "outputs": [
    {
     "name": "stdout",
     "output_type": "stream",
     "text": [
      "i = 5\n",
      "i = 6\n",
      "i = 7\n",
      "i = 8\n",
      "i = 9\n"
     ]
    }
   ],
   "source": [
    "for i in range(5, 10):\n",
    "    print(\"i =\", i)"
   ]
  },
  {
   "cell_type": "markdown",
   "metadata": {
    "collapsed": false
   },
   "source": [
    "The `range` function specifies the sequence of integer values that the loop variable will take. `range(a, b)` generates a sequence starting at `a` and ending at `b - 1`.  \n",
    "To generate a sequence with a different step size, pass a third argument to the `range` function:"
   ]
  },
  {
   "cell_type": "code",
   "execution_count": 7,
   "metadata": {
    "collapsed": false
   },
   "outputs": [
    {
     "name": "stdout",
     "output_type": "stream",
     "text": [
      "i = 1\n",
      "i = 3\n",
      "i = 5\n",
      "i = 7\n",
      "i = 9\n"
     ]
    }
   ],
   "source": [
    "for i in range(1, 10, 2):\n",
    "    print(\"i =\", i)"
   ]
  },
  {
   "cell_type": "markdown",
   "metadata": {
    "collapsed": false
   },
   "source": [
    "You can use the range function with a single argument, in which case the range of values starts at zero:"
   ]
  },
  {
   "cell_type": "code",
   "execution_count": 8,
   "metadata": {
    "collapsed": false
   },
   "outputs": [
    {
     "name": "stdout",
     "output_type": "stream",
     "text": [
      "i = 0\n",
      "i = 1\n",
      "i = 2\n",
      "i = 3\n",
      "i = 4\n"
     ]
    }
   ],
   "source": [
    "for i in range(5):\n",
    "    print(\"i =\", i)"
   ]
  },
  {
   "cell_type": "markdown",
   "metadata": {
    "collapsed": false
   },
   "source": [
    ":::{note}\n",
    "- The loop variable `i` is updated each loop iteration\n",
    "- The for statement is terminated by a colon (`:`)\n",
    "- The indented lines below the `for` statement are executed once for each integer specified by the `range` function\n",
    "- The range function *includes* the lower limit but *excludes* the upper limit\n",
    ":::"
   ]
  },
  {
   "cell_type": "markdown",
   "metadata": {
    "collapsed": false
   },
   "source": [
    "### Nested Loops\n",
    "For loops may be **nested** by placing one inside another. The following example repeats in the inner loop 4 times for each of the out loop, resulting in a total of 20 iterations,."
   ]
  },
  {
   "cell_type": "code",
   "execution_count": 7,
   "metadata": {
    "collapsed": false
   },
   "outputs": [
    {
     "name": "stdout",
     "output_type": "stream",
     "text": [
      "0 00 10 20 3\n",
      "1 01 11 21 3\n",
      "2 02 12 22 3\n",
      "3 03 13 23 3\n",
      "4 04 14 24 3\n"
     ]
    }
   ],
   "source": [
    "for i in range(5):\n",
    "    for j in range(4):\n",
    "        print(i, j, end=\"\")\n",
    "    print()"
   ]
  },
  {
   "cell_type": "markdown",
   "metadata": {
    "collapsed": false
   },
   "source": [
    ":::{note}\n",
    "By default, the `print` function adds a newline character, which means that consecutive calls to `print` results in output on separate lines.\n",
    "\n",
    "To avoid this, and use `print(\"text\", end=\"\")`.\n",
    ":::"
   ]
  }
 ],
 "metadata": {
  "kernelspec": {
   "display_name": "Python 3 (system-wide)",
   "language": "python",
   "metadata": {
    "cocalc": {
     "description": "Python 3 programming language",
     "priority": 100,
     "url": "https://www.python.org/"
    }
   },
   "name": "python3",
   "resource_dir": "/ext/jupyter/kernels/python3"
  },
  "language_info": {
   "codemirror_mode": {
    "name": "ipython",
    "version": 3
   },
   "file_extension": ".py",
   "mimetype": "text/x-python",
   "name": "python",
   "nbconvert_exporter": "python",
   "pygments_lexer": "ipython3",
   "version": "3.8.10"
  }
 },
 "nbformat": 4,
 "nbformat_minor": 4
}