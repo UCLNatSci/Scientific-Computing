{
 "cells": [
  {
   "cell_type": "markdown",
   "metadata": {
    "collapsed": false
   },
   "source": [
    "# Files\n",
    "## Reading Text Files\n",
    "A text file contains data consisting of a sequence of characters, with each line terminated by a newline character. Many common files are text files, such as `.txt` files created with a text editor, Python code files, and `.fasta` files which contain DNA sequences.\n",
    "\n",
    "The file `simple_gene.fasta` is a text file containing the following data:\n",
    "```\n",
    ">AB000263 |acc=AB000263|descr=Homo sapiens mRNA for prepro cortistatin like peptide, complete cds.|len=368\n",
    "TCAATAGTCAGCTGCACTCGAGCGACTCTGAAGGACCTGCCCCCTGTCCGACACCCCAAA\n",
    "GAGTCTATTGACCCGGGGACGCGAGTCCTCCGGAAGTGGGAGACGAGACCCATTTCAAGT\n",
    "AACCTTGTCTTTCTTTACCTAAATAGACGAGAAGCGCAACTTCTTCATGTTTTACAGTAA\n",
    "TTACGATACGTCTTTTAGAATCTCACAGGGTAGACAGACCTCAACTAGTTCCTTGGACAG\n",
    "AGGTGTTTCACACTGGTGTATAAAACGTTTAAAACGTACGACTT\n",
    "```\n",
    "The idiomatic (and most common) way to read a text file in Python is as follows, which allows us to read the text file one line at a time. The following program opens the file `simple_gene.fasta` and then iterates over each line of text, sequentially reading each line of text into the `line` string variable."
   ]
  },
  {
   "cell_type": "code",
   "execution_count": 1,
   "metadata": {
    "collapsed": false
   },
   "outputs": [
    {
     "name": "stdout",
     "output_type": "stream",
     "text": [
      ">AB000263 |acc=AB000263|descr=Homo sapiens mRNA for prepro cortistatin like peptide, complete cds.|len=368\n",
      "\n",
      "TCAATAGTCAGCTGCACTCGAGCGACTCTGAAGGACCTGCCCCCTGTCCGACACCCCAAA\n",
      "\n",
      "GAGTCTATTGACCCGGGGACGCGAGTCCTCCGGAAGTGGGAGACGAGACCCATTTCAAGT\n",
      "\n",
      "AACCTTGTCTTTCTTTACCTAAATAGACGAGAAGCGCAACTTCTTCATGTTTTACAGTAA\n",
      "\n",
      "TTACGATACGTCTTTTAGAATCTCACAGGGTAGACAGACCTCAACTAGTTCCTTGGACAG\n",
      "\n",
      "AGGTGTTTCACACTGGTGTATAAAACGTTTAAAACGTACGACTT\n"
     ]
    }
   ],
   "source": [
    "with open(\"simple_gene.fasta\") as f: # Open the file and store it in file object f\n",
    "    for line in f: # Iterate over each line of text in the file\n",
    "        print(line) # line is a string variable containing one line of text"
   ]
  },
  {
   "cell_type": "markdown",
   "metadata": {
    "collapsed": false
   },
   "source": [
    ":::{note} \n",
    "- Python will look for the file in the **same** folder as the `ipynb` file.\n",
    "- The file object `f` is available within the indented `with` block\n",
    "- There are **two** levels of indentation - one for the `with` statement, and one for the `for` loop.\n",
    "- The `with` statement ensures that the file is properly closed once the statements within its block are executed.\n",
    ":::"
   ]
  },
  {
   "cell_type": "markdown",
   "metadata": {
    "collapsed": false
   },
   "source": [
    "## Opening Files\n",
    "\n",
    "The `open` function takes two parameters, `filename` and `mode`.\n",
    "\n",
    "```\n",
    "with open(filename, mode) as f:\n",
    "...\n",
    "```\n",
    "\n",
    "There are four different modes for opening a file: \n",
    "\n",
    "`r` - Read - Default value. Opens a file for reading, raising an error if the file does not exist.  \n",
    "`a` - Append - Opens a file for appending, creating the file if it does not exist.  \n",
    "`w` - Write - Opens a file for writing (replacing existing file contents), or creating the file if it does not exist.  \n",
    "`x` - Create - Creates the specified file, raising an error if the file exists.  \n",
    "\n",
    "Additionally, we can choose to open the file as binary or text:\n",
    "\n",
    "`t` - Text - Default value.  \n",
    "`b` - Binary - Binary mode (e.g. images, raw data)\n",
    "\n",
    "For example, to open a file for appending binary data:\n",
    "\n",
    "```\n",
    "open(filename, \"ab\")\n",
    "```\n",
    "\n",
    "In this course we will mainly be using files in text mode, which is most common in practice.\n",
    "\n",
    "## Reading Files\n",
    "\n",
    "To open a file for reading, you can just use `open(filename)` without a `mode` argument, since read mode is the default.\n",
    "\n",
    "To read a the entire contents of a file in to string variable, use `file.read()`:"
   ]
  },
  {
   "cell_type": "code",
   "execution_count": 0,
   "metadata": {
    "collapsed": false
   },
   "outputs": [
   ],
   "source": [
    "with open(\"simple_gene.fasta\") as f:\n",
    "    whole_file = f.read()"
   ]
  },
  {
   "cell_type": "markdown",
   "metadata": {
    "collapsed": false
   },
   "source": [
    "To read a single line, use `file.readline()`:"
   ]
  },
  {
   "cell_type": "code",
   "execution_count": 0,
   "metadata": {
    "collapsed": false
   },
   "outputs": [
   ],
   "source": [
    "with open(\"simple_gene.fasta\") as f:\n",
    "    first_line = f.readline()\n",
    "    second_line = f.readline()"
   ]
  },
  {
   "cell_type": "markdown",
   "metadata": {
    "collapsed": false
   },
   "source": [
    "To read one line at a time, use a loop:"
   ]
  },
  {
   "cell_type": "code",
   "execution_count": 2,
   "metadata": {
    "collapsed": false
   },
   "outputs": [
   ],
   "source": [
    "lines = []\n",
    "with open(\"simple_gene.fasta\") as f:\n",
    "    for line in f:\n",
    "        lines.append(f)"
   ]
  },
  {
   "cell_type": "markdown",
   "metadata": {
    "collapsed": false
   },
   "source": [
    "Or specify the number of characters to read as an argument `file.read(n)`:"
   ]
  },
  {
   "cell_type": "code",
   "execution_count": 3,
   "metadata": {
    "collapsed": false
   },
   "outputs": [
   ],
   "source": [
    "with open(\"simple_gene.fasta\") as f:\n",
    "    first_6_chars = f.read(6)"
   ]
  },
  {
   "cell_type": "markdown",
   "metadata": {
    "collapsed": false
   },
   "source": [
    "## Example: Reading a fasta file\n",
    "\n",
    "A `fasta` file is a popular text-based format for storing DNA sequence data. A sequence in `fasta` format begins with a single-line description, followed by lines of sequence data. The description line is distinguished from the sequence data by a greater-than (\">\") symbol in the first position. Typically all lines of text are shorter than 80 characters in length.  \n",
    "\n",
    "The following code opens the fasta file and reads its contents into a string variable `sequence`. The line beginning with `>` is discarded, and newline characters are removed using `string.strip()`"
   ]
  },
  {
   "cell_type": "code",
   "execution_count": 4,
   "metadata": {
    "collapsed": false
   },
   "outputs": [
    {
     "name": "stdout",
     "output_type": "stream",
     "text": [
      "TCAATAGTCAGCTGCACTCGAGCGACTCTGAAGGACCTGCCCCCTGTCCGACACCCCAAAGAGTCTATTGACCCGGGGACGCGAGTCCTCCGGAAGTGGGAGACGAGACCCATTTCAAGTAACCTTGTCTTTCTTTACCTAAATAGACGAGAAGCGCAACTTCTTCATGTTTTACAGTAATTACGATACGTCTTTTAGAATCTCACAGGGTAGACAGACCTCAACTAGTTCCTTGGACAGAGGTGTTTCACACTGGTGTATAAAACGTTTAAAACGTACGACTT\n"
     ]
    }
   ],
   "source": [
    "# Open the fasta file containing the DNA sequence\n",
    "\n",
    "file_name = \"simple_gene.fasta\"\n",
    "with open(file_name) as f:\n",
    "    sequence = \"\"\n",
    "    for line in f:\n",
    "        if line[0] != \">\":\n",
    "            sequence = sequence + line.strip()\n",
    "\n",
    "print(sequence)"
   ]
  },
  {
   "cell_type": "markdown",
   "metadata": {
    "collapsed": false
   },
   "source": [
    "## Writing Files\n",
    "\n",
    "To write to a file, first open the file using one of the three write modes 'append', 'write' and 'create'. Then, use `file.write(text)` to write to the file."
   ]
  },
  {
   "cell_type": "code",
   "execution_count": 5,
   "metadata": {
    "collapsed": false
   },
   "outputs": [
   ],
   "source": [
    "# open a file for writing, overwriting if it already exists.\n",
    "with open(\"numbers.txt\", \"w\") as f:\n",
    "    f.write(\"one\\n\")\n",
    "    f.write(\"two\\n\")"
   ]
  },
  {
   "cell_type": "markdown",
   "metadata": {
    "collapsed": false
   },
   "source": [
    ":::{note}\n",
    "There is no equivalent to `file.readline()` for writing. Instead, use `file.write(text + \"\\n\")` to append a newline character.\n",
    ":::\n"
   ]
  },
  {
   "cell_type": "markdown",
   "metadata": {
    "collapsed": false
   },
   "source": [
    "## Example: Editing a File\n",
    "\n",
    "For historical and performance reasons, we do not typically edit files directly. Instead, we combine read and write operations to convert an input file into an output file. For example, suppose we would like to add line numbers to a text file `coleridge.txt`.\n",
    "\n",
    "Input:\n",
    "```\n",
    "In Xanadu did Kubla Khan\n",
    "A stately pleasure-dome decree:\n",
    "Where Alph, the sacred river, ran\n",
    "...\n",
    "```\n",
    "\n",
    "Output:\n",
    "```\n",
    "Line 1: In Xanadu did Kubla Khan\n",
    "Line 2: A stately pleasure-dome decree:\n",
    "Line 3: Where Alph, the sacred river, ran\n",
    "...\n",
    "```\n",
    "\n",
    "We open two files, one for reading and another for writing. We then loop over the rows of the input file, simultaneously writing lines to the output file."
   ]
  },
  {
   "cell_type": "code",
   "execution_count": 6,
   "metadata": {
    "collapsed": false
   },
   "outputs": [
   ],
   "source": [
    "with open('coleridge.txt') as f_in: # open file for reading\n",
    "    with open('coleridge_new.txt', \"w\") as f_out: # open file for writing\n",
    "        i = 1\n",
    "        for line in f_in:\n",
    "            f_out.write(\"Line \" + str(i) + \": \" + line)\n",
    "            i += 1"
   ]
  },
  {
   "cell_type": "markdown",
   "metadata": {
    "collapsed": false
   },
   "source": [
    "## CSV Files\n",
    "A CSV file (Comma Separated Values file) is a plain text file which contains tabular data. Typically a CSV file uses commas to separate columns and new lines to separate rows. The file `periodic_table.csv` (in the same folder as this `ipynb` file) contains tabular data related to the chemical elements:\n",
    "\n",
    "```\n",
    "number,name,symbol,appearance,atomic_number,boiling_point\n",
    "1,Hydrogen,H,colorless gas,1,20.271\n",
    "2,Helium,He,\"colorless gas, exhibiting a red-orange glow when placed in a high-voltage electric field\",2,4.222\n",
    "3,Lithium,Li,silvery-white,3,1603\n",
    "...\n",
    "```\n",
    "\n",
    "CSV files are very commonly used to store scientific data and are very useful for transferring data between different systems. It is possible to read the file using standard Python file and string processing instructions, for example using `string.split` to extract data columns. However, because CSV files are so common, Python includes a special module `csv` which includes functions to automate much of this work.\n",
    "\n",
    ":::{note}\n",
    "If you open a `.csv` file on your computer, it might automatically open in MS Excel or other spreadsheet program. However, in fact it is not a spreadsheet file. To see the file in plain text form, open it in a text editor such as notepad (Windows) or TextEdit (Mac). If you are doing a lot of work with text files, it is recommended that you install a dedicated text processing program such as Notepad++ (Windows) or Atom (multiple platforms).\n",
    ":::\n",
    "\n",
    "The following code reads the first, second and sixth columns into four lists:"
   ]
  },
  {
   "cell_type": "code",
   "execution_count": 3,
   "metadata": {
    "collapsed": false
   },
   "outputs": [
   ],
   "source": [
    "import csv # import the csv module\n",
    "\n",
    "numbers = []\n",
    "names = []\n",
    "melting_points = []\n",
    "boiling_points = []\n",
    "\n",
    "with open(\"periodic_table.csv\") as f:\n",
    "    reader = csv.reader(f) # create a reader object from the file\n",
    "    next(reader) # ignore the header row of the CSV file\n",
    "    for row in reader: # iterate over the rows, reading each into a list of strings called row\n",
    "        num = int(row[0]) # convert from string to int\n",
    "        name = row[1]\n",
    "        # Check if the 5th and 6th columns contain numeric data\n",
    "        if row[5].isnumeric() and row[6].isnumeric():\n",
    "            mp = float(row[5])\n",
    "            bp = float(row[6])\n",
    "            # Append the values to the lists\n",
    "            numbers.append(num)\n",
    "            names.append(name)\n",
    "            melting_points.append(float(mp))\n",
    "            boiling_points.append(float(bp))"
   ]
  },
  {
   "cell_type": "markdown",
   "metadata": {
    "collapsed": false
   },
   "source": [
    "Now we have four lists containing four columns from the CSV file. Let's make a scatter plot showing boiling point against melting point:"
   ]
  },
  {
   "cell_type": "code",
   "execution_count": 20,
   "metadata": {
    "collapsed": false
   },
   "outputs": [
    {
     "data": {
      "text/plain": [
       "Text(0.5, 1.0, 'Melting and Boiling Points of Chemical Elements')"
      ]
     },
     "execution_count": 20,
     "metadata": {
     },
     "output_type": "execute_result"
    },
    {
     "data": {
      "image/png": "[encoded data removed]",
      "text/plain": [
       "<Figure size 432x432 with 1 Axes>"
      ]
     },
     "execution_count": 20,
     "metadata": {
      "image/png": {
       "height": 386,
       "width": 395
      },
      "needs_background": "light"
     },
     "output_type": "execute_result"
    }
   ],
   "source": [
    "import matplotlib.pyplot as plt\n",
    "plt.figure(figsize=(6,6))\n",
    "plt.scatter(melting_points, boiling_points) # Plot a scatter plot\n",
    "plt.xlabel(\"Melting point (K)\")\n",
    "plt.ylabel(\"Boiling point (K)\")\n",
    "plt.title(\"Melting and Boiling Points of Chemical Elements\")"
   ]
  }
 ],
 "metadata": {
  "kernelspec": {
   "display_name": "Python 3 (system-wide)",
   "language": "python",
   "metadata": {
    "cocalc": {
     "description": "Python 3 programming language",
     "priority": 100,
     "url": "https://www.python.org/"
    }
   },
   "name": "python3",
   "resource_dir": "/ext/jupyter/kernels/python3"
  },
  "language_info": {
   "codemirror_mode": {
    "name": "ipython",
    "version": 3
   },
   "file_extension": ".py",
   "mimetype": "text/x-python",
   "name": "python",
   "nbconvert_exporter": "python",
   "pygments_lexer": "ipython3",
   "version": "3.8.10"
  }
 },
 "nbformat": 4,
 "nbformat_minor": 4
}