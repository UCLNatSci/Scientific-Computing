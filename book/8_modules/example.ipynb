{
 "cells": [
  {
   "cell_type": "markdown",
   "metadata": {
    "collapsed": false
   },
   "source": [
    "# Example Notebook\n",
    "\n",
    "## Using Modules"
   ]
  },
  {
   "cell_type": "code",
   "execution_count": 1,
   "metadata": {
    "collapsed": false,
    "scrolled": true
   },
   "outputs": [
    {
     "data": {
      "image/png": "[encoded data removed]",
      "text/plain": [
       "<Figure size 360x360 with 1 Axes>"
      ]
     },
     "execution_count": 1,
     "metadata": {
      "image/png": {
       "height": 306,
       "width": 332
      },
      "needs_background": "light"
     },
     "output_type": "execute_result"
    }
   ],
   "source": [
    "import turtle\n",
    "\n",
    "turtle.start()\n",
    "for i in range(4):\n",
    "    turtle.draw_forward(1)\n",
    "    turtle.rotate_left(90)"
   ]
  },
  {
   "cell_type": "markdown",
   "metadata": {
    "collapsed": false
   },
   "source": [
    "## Introduction\n",
    "\n",
    "This notebook demonstrates **some** useful techniques for integrating formatted text, figures and code into an `ipynb` file. Change to edit mode to inspect the contents of this cell.\n",
    "\n",
    "This is an embedded image. The file is stored in the same folder as this notebook.\n",
    "\n",
    "![Turtle Picture](220px-Turtle-animation.gif)\n",
    "\n",
    "\n",
    "## Equations\n",
    "\n",
    "Inline equations can be included by surrounding LaTeX markup with \\$ signs, like this:$x_{i+1} = x_i + i^2$\n",
    "\n",
    "To include block equations, surround the LaTeX with \\$\\$:\n",
    "\n",
    "$$x_{i+1} = x_i + i^2$$\n",
    "\n",
    "## Tables\n",
    "\n",
    "|Table|Heading|\n",
    "|---|---|\n",
    "|line| 1|\n",
    "|line|2|\n",
    "\n",
    "## Code\n",
    "\n",
    "To embed code in the markup, surround it by backticks \\`.\n",
    "\n",
    "Inline code can be included by surrounding with single backticks like this: `x = int(\"01\")`\n",
    "\n",
    "A block of code can be included by surrounding the block with triple backticks \\`\\`\\`:\n",
    "```\n",
    "x = int(\"01\")\n",
    "print(x)\n",
    "```\n",
    "\n",
    "\n",
    "The embedded code will not be executed."
   ]
  }
 ],
 "metadata": {
  "kernelspec": {
   "display_name": "Python 3 (system-wide)",
   "language": "python",
   "metadata": {
    "cocalc": {
     "description": "Python 3 programming language",
     "priority": 100,
     "url": "https://www.python.org/"
    }
   },
   "name": "python3",
   "resource_dir": "/ext/jupyter/kernels/python3"
  },
  "language_info": {
   "codemirror_mode": {
    "name": "ipython",
    "version": 3
   },
   "file_extension": ".py",
   "mimetype": "text/x-python",
   "name": "python",
   "nbconvert_exporter": "python",
   "pygments_lexer": "ipython3",
   "version": "3.8.5"
  }
 },
 "nbformat": 4,
 "nbformat_minor": 4
}