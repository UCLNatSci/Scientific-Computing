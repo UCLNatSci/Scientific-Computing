{
 "cells": [
  {
   "cell_type": "markdown",
   "metadata": {
    "collapsed": false
   },
   "source": [
    "# Modules\n",
    "\n",
    "A **module** is a file with a `.py` extension which contains Python code. The code can be **imported** from the module using the Python `import` statement.\n",
    "\n",
    "First, create a new file called `turtle.py` and paste in the following code:\n",
    "\n",
    "```\n",
    "import matplotlib.pyplot as plt\n",
    "import numpy as np\n",
    "\n",
    "# function definitions\n",
    "\n",
    "def start():\n",
    "    state[0] = 0\n",
    "    state[1] = 0\n",
    "    state[2] = 0\n",
    "    \n",
    "    plt.figure(figsize=(5,5))\n",
    "    plt.xlim(-2, 2)\n",
    "    plt.ylim(-2, 2)\n",
    "    \n",
    "def draw_forward(dis):\n",
    "    x = state[0]\n",
    "    y = state[1]\n",
    "    angle = state[2]\n",
    "    state[0] = x + dis * np.cos(angle)\n",
    "    state[1] = y + dis * np.sin(angle)\n",
    "    plt.plot([x, state[0]], [y, state[1]], color=\"black\", linewidth=2)\n",
    "    \n",
    "def rotate_left(theta):\n",
    "    state[2] = state[2] + theta * np.pi / 180\n",
    "    \n",
    "state = [0, 0, 0]\n",
    "```\n",
    "\n",
    "This defines a module called `turtle`.\n",
    "\n",
    "Next, create a notebook (with `.ipynb` extension) and enter the following code. The `py` file and the `ipynb` files must be in the same folder."
   ]
  },
  {
   "cell_type": "code",
   "execution_count": 3,
   "metadata": {
    "collapsed": false
   },
   "outputs": [
   ],
   "source": [
    "import turtle"
   ]
  },
  {
   "cell_type": "markdown",
   "metadata": {
    "collapsed": false
   },
   "source": [
    "This statement imports the module `turtle` which is defined in the file `turtle.py` contained in the same folder as the notebook. When the Python interpreter executes this statement, it reads and executes the code contained in the file.\n",
    "\n",
    "Any functions or variables defined in the module `turtle` can now be accessed from this notebook using the prefix `turtle.`. For example, the function `start()` defined in `turtle.py` can be called using `turtle.start()`:"
   ]
  },
  {
   "cell_type": "code",
   "execution_count": 2,
   "metadata": {
    "collapsed": false
   },
   "outputs": [
    {
     "data": {
      "image/png": "[encoded data removed]",
      "text/plain": [
       "<Figure size 360x360 with 1 Axes>"
      ]
     },
     "execution_count": 2,
     "metadata": {
      "image/png": {
       "height": 306,
       "width": 332
      },
      "needs_background": "light"
     },
     "output_type": "execute_result"
    }
   ],
   "source": [
    "turtle.start() # call start function defined in turtle.py\n",
    "turtle.draw_forward(1) # call draw_forward function defined in turtle.py"
   ]
  },
  {
   "cell_type": "markdown",
   "metadata": {
    "collapsed": false
   },
   "source": [
    "## Modularising Code\n",
    "\n",
    "Modules are useful for breaking a large program into smaller parts. For example, the `.ipynb` file could contain only code suitable for presentation, with other code relegated to functions defined in `.py` files.\n",
    "\n",
    "Because functions must be imported before being used, it is common practice to gather together all `import` statements at the top of the notebook file.\n",
    "\n",
    "```\n",
    "import numpy as np\n",
    "import turtle\n",
    "\n",
    "# rest of code goes here...\n",
    "```\n"
   ]
  }
 ],
 "metadata": {
  "kernelspec": {
   "display_name": "Python 3 (system-wide)",
   "language": "python",
   "metadata": {
    "cocalc": {
     "description": "Python 3 programming language",
     "priority": 100,
     "url": "https://www.python.org/"
    }
   },
   "name": "python3",
   "resource_dir": "/ext/jupyter/kernels/python3"
  }
 },
 "nbformat": 4,
 "nbformat_minor": 4
}