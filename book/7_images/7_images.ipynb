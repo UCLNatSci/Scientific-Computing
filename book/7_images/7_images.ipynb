{
 "cells": [
  {
   "cell_type": "markdown",
   "metadata": {
    "collapsed": false
   },
   "source": [
    "# Image Processing\n",
    "This tutorial will examine how to use Python and Numpy to process images, which can be expressed as 2 or 3 dimensional arrays."
   ]
  },
  {
   "cell_type": "markdown",
   "metadata": {
    "collapsed": false
   },
   "source": [
    "## More Array Functions\n",
    "\n",
    "First we look at another method of constructing 2d arrays, by constructing one row at a time. Suppose we want to create the following array, where the first row is powers of 2, the second row is powers of 3, and so on:\n",
    "\n",
    "$$\\begin{matrix}\n",
    "1 & 2 & 4 & 8 \\\\\n",
    "1 & 3 & 9 & 27 \\\\\n",
    "1 & 4 & 16 & 64\n",
    "\\end{matrix}$$\n",
    "We create a zero array of the desired dimensions using the function `np.zeros`:"
   ]
  },
  {
   "cell_type": "code",
   "execution_count": 1,
   "metadata": {
    "collapsed": false
   },
   "outputs": [
    {
     "name": "stdout",
     "output_type": "stream",
     "text": [
      "[[0. 0. 0. 0.]\n",
      " [0. 0. 0. 0.]\n",
      " [0. 0. 0. 0.]]\n"
     ]
    }
   ],
   "source": [
    "import numpy as np\n",
    "\n",
    "a = np.zeros((3, 4))\n",
    "print(a)"
   ]
  },
  {
   "cell_type": "markdown",
   "metadata": {
    "collapsed": false
   },
   "source": [
    "Notice the double brackets, which are necessary because the function `np.zeros` takes a tuple as a parameter.\n",
    "\n",
    "Next, we create each of the individual rows as 1 x 4 arrays:"
   ]
  },
  {
   "cell_type": "code",
   "execution_count": 2,
   "metadata": {
    "collapsed": false
   },
   "outputs": [
    {
     "name": "stdout",
     "output_type": "stream",
     "text": [
      "[1 2 4 8]\n",
      "[ 1  3  9 27]\n",
      "[ 1  4 16 64]\n"
     ]
    }
   ],
   "source": [
    "x = np.arange(0, 4)\n",
    "row1 = 2 ** x\n",
    "print(row1)\n",
    "row2 = 3 ** x\n",
    "print(row2)\n",
    "row3 = 4 ** x\n",
    "print(row3)"
   ]
  },
  {
   "cell_type": "markdown",
   "metadata": {
    "collapsed": false
   },
   "source": [
    "Finally, we assign each row to the correct row in `a` using slice notation:"
   ]
  },
  {
   "cell_type": "code",
   "execution_count": 3,
   "metadata": {
    "collapsed": false
   },
   "outputs": [
    {
     "name": "stdout",
     "output_type": "stream",
     "text": [
      "[[ 1.  2.  4.  8.]\n",
      " [ 1.  3.  9. 27.]\n",
      " [ 1.  4. 16. 64.]]\n"
     ]
    }
   ],
   "source": [
    "a[0, :] = row1\n",
    "a[1,:] = row2\n",
    "a[2,:] = row3\n",
    "\n",
    "print(a)"
   ]
  },
  {
   "cell_type": "markdown",
   "metadata": {
    "collapsed": false
   },
   "source": [
    "### `shape` Method\n",
    "\n",
    "Given an array, we can determine its dimensions using the `shape` method, which returns a tuple:"
   ]
  },
  {
   "cell_type": "code",
   "execution_count": 4,
   "metadata": {
    "collapsed": false
   },
   "outputs": [
    {
     "name": "stdout",
     "output_type": "stream",
     "text": [
      "(3, 4)\n",
      "first dimension: 3\n",
      "second dimension: 4\n"
     ]
    }
   ],
   "source": [
    "s = a.shape\n",
    "print(s)\n",
    "\n",
    "x = s[0]\n",
    "y = s[1]\n",
    "\n",
    "print(\"first dimension:\", x)\n",
    "print(\"second dimension:\", y)"
   ]
  },
  {
   "cell_type": "markdown",
   "metadata": {
    "collapsed": false
   },
   "source": [
    "### Axis Methods\n",
    "The method `np.sum` allows us to calculate the sum of the elements in an array. If your array is 2-dimensional, it is often useful to calculate the sum in one dimension only, to return a 1-dimensional array. This can be achieved using the `axis` parameter of the `sum` function:"
   ]
  },
  {
   "cell_type": "code",
   "execution_count": 5,
   "metadata": {
    "collapsed": false,
    "scrolled": true
   },
   "outputs": [
    {
     "name": "stdout",
     "output_type": "stream",
     "text": [
      "[ 3.  9. 29. 99.]\n"
     ]
    }
   ],
   "source": [
    "sum_of_rows = np.sum(a, axis=0)\n",
    "print(sum_of_rows)"
   ]
  },
  {
   "cell_type": "markdown",
   "metadata": {
    "collapsed": false
   },
   "source": [
    "This method has performed the vector sum of the rows of `a`, `[1, 2, 4, 8] + [1, 3, 9, 27] + [1, 4, 16, 64]`. Element `i` of the result is the sum down the column `i` of `a`. The parameter `axis=0` determines that it is the 1st (counting from 0) dimension that should be aggregated.\n",
    "\n",
    "To perform the aggregation along the second dimension, use `axis=1`."
   ]
  },
  {
   "cell_type": "code",
   "execution_count": 6,
   "metadata": {
    "collapsed": false
   },
   "outputs": [
    {
     "name": "stdout",
     "output_type": "stream",
     "text": [
      "[15. 40. 85.]\n"
     ]
    }
   ],
   "source": [
    "sum_of_columns = np.sum(a, axis=1)\n",
    "print(sum_of_columns)"
   ]
  },
  {
   "cell_type": "markdown",
   "metadata": {
    "collapsed": false
   },
   "source": [
    "Other methods that take the `axis` parameter include `np.max` and `np.mean`."
   ]
  },
  {
   "cell_type": "markdown",
   "metadata": {
    "collapsed": false
   },
   "source": [
    "## Images\n",
    "An image file is essentially a 3-dimensional array where each element represents colour intensity of each pixel. The first two dimensions correspond to the x and y co-ordinates of each pixel, and the third dimension corresponds to its RGBA value (R=red, G=Green, B=Blue and A=alpha which encodes transparency).\n",
    "\n",
    "The file `bw.png` is an 8 by 8 pixel image (<a href=\"../tutorial_7/bw.png\" download>download</a>):\n",
    "\n",
    "![](bw_big.png)\n",
    "\n",
    "First we import the module `matplotlib.image` and use the `imread` function to convert it to an array."
   ]
  },
  {
   "cell_type": "code",
   "execution_count": 1,
   "metadata": {
    "collapsed": false
   },
   "outputs": [
    {
     "name": "stdout",
     "output_type": "stream",
     "text": [
      "shape: (8, 8, 4)\n"
     ]
    }
   ],
   "source": [
    "import matplotlib.image as mpimg # import the image module\n",
    "\n",
    "x = mpimg.imread(\"bw.png\") # read the image into an array\n",
    "\n",
    "print(\"shape:\", x.shape)"
   ]
  },
  {
   "cell_type": "markdown",
   "metadata": {
    "collapsed": false
   },
   "source": [
    "This is a three dimensional array where `x[i,j,0]` is the R value, `x[i,j,1]` is the G value, `x[i,j,2]` is the B value and `x[i,j,3]` is the alpha (transparency) value. `x[0, 0, :]` extracts all four values for the (0, 0) pixel as a 1 x 4 array:"
   ]
  },
  {
   "cell_type": "code",
   "execution_count": 8,
   "metadata": {
    "collapsed": false
   },
   "outputs": [
    {
     "name": "stdout",
     "output_type": "stream",
     "text": [
      "[0.02352941 0.02352941 0.02352941 1.        ]\n"
     ]
    }
   ],
   "source": [
    "print(x[0, 0, :])"
   ]
  },
  {
   "cell_type": "markdown",
   "metadata": {
    "collapsed": false
   },
   "source": [
    "This is a greyscale image, so all the colour values are identical and the alpha value is 1 (100% opaque). We can aggregate along the third (number 2) axis to sum the colour values and return a 2-dimensional array. (The round function is used to make the printed array easier to read by reducing the number of decimal places displayed)."
   ]
  },
  {
   "cell_type": "code",
   "execution_count": 9,
   "metadata": {
    "collapsed": false
   },
   "outputs": [
    {
     "name": "stdout",
     "output_type": "stream",
     "text": [
      "[[1.1 1.4 1.1 1.5 1.3 1.  1.2 1.1]\n",
      " [1.5 1.8 2.  2.1 1.8 1.2 1.2 1.1]\n",
      " [1.8 2.4 3.  3.2 2.3 1.7 1.4 1.2]\n",
      " [1.9 3.1 3.6 3.6 3.3 1.8 1.3 1.3]\n",
      " [2.  3.2 3.6 3.7 3.  2.  1.7 1.2]\n",
      " [1.8 2.3 3.  3.1 2.4 2.3 2.5 1.7]\n",
      " [1.4 1.9 2.  1.9 1.8 2.4 4.  2.3]\n",
      " [1.1 1.4 1.2 1.1 1.2 1.6 1.9 1.5]]\n"
     ]
    }
   ],
   "source": [
    "z = np.sum(x, axis=2)\n",
    "print(np.round(z, 1))"
   ]
  },
  {
   "cell_type": "markdown",
   "metadata": {
    "collapsed": false
   },
   "source": [
    "## Particle Tracking\n",
    "\n",
    "Many scientific experiments require the capture of mages, for example  microscopic images of biological tissue slices, or photographs of astronomical objects images. Computers enable us to automate many of the processes associated with analysing such images, such as the automatic segmentation and labelling of cells in a tissue slice or identification of astronomical objects.  \n",
    "\n",
    "We will be using Python image processing techniques to reproduce part of a famous experiment: Perrin's experiment to measure Avogadro's Number. In this experiment, images of tiny particles are recorded through a microscope.\n",
    "\n",
    "This lesson is based in part on [an assignment from Princeton University](https://introcs.cs.princeton.edu/java/assignments/atomic.html) and you are encouraged to read it for reference.\n",
    "\n",
    "1. Read in an image file and convert it to a `numpy` array.\n",
    "1. Convert the array to greyscale by averaging along the last dimension\n",
    "1. Classify the pixels as foreground or background\n",
    "1. Find the particle locations\n",
    "1. Repeat for all images and plot a graph of particle location against time\n"
   ]
  },
  {
   "cell_type": "markdown",
   "metadata": {
    "collapsed": false
   },
   "source": [
    "### Read the Image File"
   ]
  },
  {
   "cell_type": "code",
   "execution_count": 10,
   "metadata": {
    "collapsed": false
   },
   "outputs": [
    {
     "data": {
      "text/plain": [
       "<matplotlib.image.AxesImage at 0x7f1b93dcce50>"
      ]
     },
     "execution_count": 10,
     "metadata": {
     },
     "output_type": "execute_result"
    },
    {
     "data": {
      "image/png": "[encoded data removed]",
      "text/plain": [
       "<Figure size 288x288 with 1 Axes>"
      ]
     },
     "execution_count": 10,
     "metadata": {
      "image/png": {
       "height": 248,
       "width": 245
      },
      "needs_background": "light"
     },
     "output_type": "execute_result"
    }
   ],
   "source": [
    "import numpy as np\n",
    "import matplotlib.pyplot as plt\n",
    "import matplotlib.image as mpimg # import the image module\n",
    "\n",
    "x = mpimg.imread(\"bw.png\") # read the image into an array\n",
    "plt.figure(figsize=(4,4))\n",
    "plt.imshow(x)\n"
   ]
  },
  {
   "cell_type": "markdown",
   "metadata": {
    "collapsed": false
   },
   "source": [
    "### Reduce to greyscale"
   ]
  },
  {
   "cell_type": "code",
   "execution_count": 11,
   "metadata": {
    "collapsed": false
   },
   "outputs": [
    {
     "name": "stdout",
     "output_type": "stream",
     "text": [
      "Dimensions: (8, 8, 4)\n"
     ]
    }
   ],
   "source": [
    "print(\"Dimensions:\", x.shape)"
   ]
  },
  {
   "cell_type": "markdown",
   "metadata": {
    "collapsed": false
   },
   "source": [
    "We will reduce the array to 2-dimensions by summing the last dimension:"
   ]
  },
  {
   "cell_type": "code",
   "execution_count": 12,
   "metadata": {
    "collapsed": false
   },
   "outputs": [
    {
     "name": "stdout",
     "output_type": "stream",
     "text": [
      "[[1.1 1.4 1.1 1.5 1.3 1.  1.2 1.1]\n",
      " [1.5 1.8 2.  2.1 1.8 1.2 1.2 1.1]\n",
      " [1.8 2.4 3.  3.2 2.3 1.7 1.4 1.2]\n",
      " [1.9 3.1 3.6 3.6 3.3 1.8 1.3 1.3]\n",
      " [2.  3.2 3.6 3.7 3.  2.  1.7 1.2]\n",
      " [1.8 2.3 3.  3.1 2.4 2.3 2.5 1.7]\n",
      " [1.4 1.9 2.  1.9 1.8 2.4 4.  2.3]\n",
      " [1.1 1.4 1.2 1.1 1.2 1.6 1.9 1.5]]\n"
     ]
    }
   ],
   "source": [
    "z = np.sum(x, 2) # sum the RGBA values for each pixel\n",
    "print(np.round(z, 1))"
   ]
  },
  {
   "cell_type": "markdown",
   "metadata": {
    "collapsed": false
   },
   "source": [
    "### Tresholding\n",
    "The next step is to classify each pixel as 'foreground' (belonging to a particle) or 'background'. We do this by setting each pixel to 1 if it is above a threshold value, and 0 otherwise. But what threshold value should we choose? It certainly must lie between the minimum and maximum values of the array."
   ]
  },
  {
   "cell_type": "code",
   "execution_count": 13,
   "metadata": {
    "collapsed": false
   },
   "outputs": [
    {
     "name": "stdout",
     "output_type": "stream",
     "text": [
      "Min: 1.0\n",
      "Max: 4.0\n"
     ]
    }
   ],
   "source": [
    "print(\"Min:\", np.min(z))\n",
    "print(\"Max:\", np.max(z))"
   ]
  },
  {
   "cell_type": "markdown",
   "metadata": {
    "collapsed": false
   },
   "source": [
    "The threshold must lie between 1 and 4. Let's try a value of 2."
   ]
  },
  {
   "cell_type": "code",
   "execution_count": 14,
   "metadata": {
    "collapsed": false
   },
   "outputs": [
    {
     "name": "stdout",
     "output_type": "stream",
     "text": [
      "[[False False False False False False False False]\n",
      " [False False  True  True False False False False]\n",
      " [False  True  True  True  True False False False]\n",
      " [False  True  True  True  True False False False]\n",
      " [ True  True  True  True  True False False False]\n",
      " [False  True  True  True  True  True  True False]\n",
      " [False False False False False  True  True  True]\n",
      " [False False False False False False False False]]\n"
     ]
    },
    {
     "data": {
      "text/plain": [
       "<matplotlib.image.AxesImage at 0x7f1b91d30610>"
      ]
     },
     "execution_count": 14,
     "metadata": {
     },
     "output_type": "execute_result"
    },
    {
     "data": {
      "image/png": "[encoded data removed]",
      "text/plain": [
       "<Figure size 288x288 with 1 Axes>"
      ]
     },
     "execution_count": 14,
     "metadata": {
      "image/png": {
       "height": 248,
       "width": 245
      },
      "needs_background": "light"
     },
     "output_type": "execute_result"
    }
   ],
   "source": [
    "thres = 2\n",
    "x_thres = z > thres # Determine pixels which are above the threshold\n",
    "print(x_thres)\n",
    "plt.figure(figsize=(4,4))\n",
    "plt.imshow(x_thres) # Note that in Python True = 1 and False = 0"
   ]
  },
  {
   "cell_type": "markdown",
   "metadata": {
    "collapsed": false
   },
   "source": [
    "We would like to identify the largest blob (the top left one). We will increase the value of `thres` so that there are two distinct blobs in the thresholded image. "
   ]
  },
  {
   "cell_type": "code",
   "execution_count": 15,
   "metadata": {
    "collapsed": false
   },
   "outputs": [
    {
     "name": "stdout",
     "output_type": "stream",
     "text": [
      "[[False False False False False False False False]\n",
      " [False False False False False False False False]\n",
      " [False False  True  True False False False False]\n",
      " [False  True  True  True  True False False False]\n",
      " [False  True  True  True  True False False False]\n",
      " [False False  True  True False False False False]\n",
      " [False False False False False False  True False]\n",
      " [False False False False False False False False]]\n"
     ]
    },
    {
     "data": {
      "text/plain": [
       "<matplotlib.image.AxesImage at 0x7f1b91d13640>"
      ]
     },
     "execution_count": 15,
     "metadata": {
     },
     "output_type": "execute_result"
    },
    {
     "data": {
      "image/png": "[encoded data removed]",
      "text/plain": [
       "<Figure size 288x288 with 1 Axes>"
      ]
     },
     "execution_count": 15,
     "metadata": {
      "image/png": {
       "height": 248,
       "width": 245
      },
      "needs_background": "light"
     },
     "output_type": "execute_result"
    }
   ],
   "source": [
    "thres = 2.5\n",
    "x_thres = z > thres # Determine pixels which are above the threshold\n",
    "print(x_thres)\n",
    "plt.figure(figsize=(4,4))\n",
    "plt.imshow(x_thres) # Note that in Python True = 1 and False = 0"
   ]
  },
  {
   "cell_type": "markdown",
   "metadata": {
    "collapsed": false
   },
   "source": [
    "### Blob Location\n",
    "The next step is the determine the location of the largest identified blob. Fortunately there are functions available in the `scipy.ndimage` package which do just that. First, use the function `label` to generate an array in which  each element is a number identifying which connected blob the pixel belongs to. In this case, there are two blobs, so every pixel is labelled 1 or 2 if it belongs to one of the blobs, or 0 if it belongs to neither."
   ]
  },
  {
   "cell_type": "code",
   "execution_count": 16,
   "metadata": {
    "collapsed": false
   },
   "outputs": [
    {
     "name": "stdout",
     "output_type": "stream",
     "text": [
      "number of blobs: 2\n",
      "[[0 0 0 0 0 0 0 0]\n",
      " [0 0 0 0 0 0 0 0]\n",
      " [0 0 1 1 0 0 0 0]\n",
      " [0 1 1 1 1 0 0 0]\n",
      " [0 1 1 1 1 0 0 0]\n",
      " [0 0 1 1 0 0 0 0]\n",
      " [0 0 0 0 0 0 2 0]\n",
      " [0 0 0 0 0 0 0 0]]\n"
     ]
    }
   ],
   "source": [
    "import scipy.ndimage as sn # import the scipy.ndimage package\n",
    "x_labels, n = sn.label(x_thres) # generate \n",
    "print(\"number of blobs:\", n)\n",
    "print(x_labels)"
   ]
  },
  {
   "cell_type": "markdown",
   "metadata": {
    "collapsed": false
   },
   "source": [
    "Next, use the `sn.sum` function to generate an array containing the size (in number of pixels) of each blob."
   ]
  },
  {
   "cell_type": "code",
   "execution_count": 17,
   "metadata": {
    "collapsed": false
   },
   "outputs": [
    {
     "name": "stdout",
     "output_type": "stream",
     "text": [
      "sizes: [12.  1.]\n"
     ]
    }
   ],
   "source": [
    "sizes = sn.sum(x_thres, x_labels, range(1, n+1))\n",
    "print(\"sizes:\", sizes)"
   ]
  },
  {
   "cell_type": "markdown",
   "metadata": {
    "collapsed": false
   },
   "source": [
    "So blob 1 has 9 pixels and blob 2 has 1 pixel.\n",
    "`np.argmax` returns the index of the largest blob:"
   ]
  },
  {
   "cell_type": "code",
   "execution_count": 18,
   "metadata": {
    "collapsed": false
   },
   "outputs": [
    {
     "name": "stdout",
     "output_type": "stream",
     "text": [
      "index: 0\n"
     ]
    }
   ],
   "source": [
    "idx = np.argmax(sizes) # get the index of the largest blob\n",
    "print(\"index:\", idx)"
   ]
  },
  {
   "cell_type": "markdown",
   "metadata": {
    "collapsed": false
   },
   "source": [
    "Note that the indexes of the `sizes` array are counted from 0 to n-1, whereas the labels are counted from 1 to n, so index `idx` corresponds to the blob with label `idx + 1`.  \n",
    "Next we determine the location of the largest blob using the `sn.center_of_mass` function, which returns the co-ordinates of the centre of a blob. "
   ]
  },
  {
   "cell_type": "code",
   "execution_count": 19,
   "metadata": {
    "collapsed": false
   },
   "outputs": [
    {
     "name": "stdout",
     "output_type": "stream",
     "text": [
      "location: (3.5, 2.5)\n"
     ]
    }
   ],
   "source": [
    "location = sn.center_of_mass(x_thres, x_labels, idx + 1) # determine the coordinates of the largest blob\n",
    "print(\"location:\", location)"
   ]
  },
  {
   "cell_type": "markdown",
   "metadata": {
    "collapsed": false
   },
   "source": [
    "```{note}  \n",
    "The `location` variable is a `tuple`. A tuple is the same as a list, and we use the same square bracket notation to access elements, such as `location[0]`. But:\n",
    "- When defining a tuple we use round brackets `()` instead of square brackets `[]`. `location = (1, 4)`.\n",
    "- A tuple is **immutable**, meaning its elements cannot be changed. `location[0] = 5` results in an error.\n",
    "```"
   ]
  },
  {
   "cell_type": "markdown",
   "metadata": {
    "collapsed": false
   },
   "source": [
    "Finally we will mark the location of the centre of the largest blob using `plt.scatter`. Arrays indices are ordered *row* then *column* which is opposite to x-y ordering for the scatter plot, so we have to reverse the ordering of the `location` elements when plotting. "
   ]
  },
  {
   "cell_type": "code",
   "execution_count": 20,
   "metadata": {
    "collapsed": false
   },
   "outputs": [
    {
     "data": {
      "text/plain": [
       "<matplotlib.collections.PathCollection at 0x7f1b84306c70>"
      ]
     },
     "execution_count": 20,
     "metadata": {
     },
     "output_type": "execute_result"
    },
    {
     "data": {
      "image/png": "[encoded data removed]",
      "text/plain": [
       "<Figure size 288x288 with 1 Axes>"
      ]
     },
     "execution_count": 20,
     "metadata": {
      "image/png": {
       "height": 248,
       "width": 245
      },
      "needs_background": "light"
     },
     "output_type": "execute_result"
    }
   ],
   "source": [
    "plt.figure(figsize=(4,4))\n",
    "plt.imshow(x)\n",
    "# arrays are indexed [column, row] whereas scatter plots are ordered [x, y]\n",
    "# so we need to reverse the order of the indices\n",
    "plt.scatter(location[1], location[0])"
   ]
  },
  {
   "cell_type": "markdown",
   "metadata": {
    "collapsed": false
   },
   "source": [
    "In this week's exercises you will repeat this procedure using a sequence of real experimental images of particles exhibiting Brownian motion."
   ]
  }
 ],
 "metadata": {
  "kernelspec": {
   "display_name": "Python 3 (system-wide)",
   "language": "python",
   "metadata": {
    "cocalc": {
     "description": "Python 3 programming language",
     "priority": 100,
     "url": "https://www.python.org/"
    }
   },
   "name": "python3",
   "resource_dir": "/ext/jupyter/kernels/python3"
  },
  "language_info": {
   "codemirror_mode": {
    "name": "ipython",
    "version": 3
   },
   "file_extension": ".py",
   "mimetype": "text/x-python",
   "name": "python",
   "nbconvert_exporter": "python",
   "pygments_lexer": "ipython3",
   "version": "3.8.10"
  }
 },
 "nbformat": 4,
 "nbformat_minor": 4
}